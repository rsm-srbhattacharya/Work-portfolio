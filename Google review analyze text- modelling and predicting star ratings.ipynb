{
 "cells": [
  {
   "cell_type": "code",
   "execution_count": 58,
   "id": "77a9f70c",
   "metadata": {},
   "outputs": [],
   "source": [
    "import json\n",
    "import numpy as np\n",
    "import pandas as pd\n",
    "import math\n",
    "from collections import defaultdict\n",
    "from sklearn import linear_model\n",
    "import random\n",
    "from sklearn.metrics import accuracy_score, mean_squared_error\n",
    "from sklearn.linear_model import LogisticRegression\n",
    "import matplotlib.pyplot as plt\n",
    "from sklearn.linear_model import Ridge"
   ]
  },
  {
   "cell_type": "code",
   "execution_count": 2,
   "id": "88ede39e",
   "metadata": {},
   "outputs": [],
   "source": [
    "f = open(\"review-Alabama_10.json\")\n",
    "review_df = []\n",
    "for l in f:\n",
    "    review_df.append(json.loads(l))\n",
    "f.close()"
   ]
  },
  {
   "cell_type": "code",
   "execution_count": 3,
   "id": "ec0c6858",
   "metadata": {},
   "outputs": [
    {
     "data": {
      "text/plain": [
       "{'user_id': '114043824230907811356',\n",
       " 'name': 'Kanisha Mixon',\n",
       " 'time': 1597168272670,\n",
       " 'rating': 5,\n",
       " 'text': 'Very Personable staff! Beautiful and clean environment. I will definitely become a regular customer!!',\n",
       " 'pics': None,\n",
       " 'resp': None,\n",
       " 'gmap_id': '0x8862134e67ff5c87:0x38b5e2ae99cd1fcf'}"
      ]
     },
     "execution_count": 3,
     "metadata": {},
     "output_type": "execute_result"
    }
   ],
   "source": [
    "review_df[0]"
   ]
  },
  {
   "cell_type": "code",
   "execution_count": 4,
   "id": "ddadca56",
   "metadata": {},
   "outputs": [
    {
     "data": {
      "text/plain": [
       "{'user_id': '114043824230907811356',\n",
       " 'name': 'Kanisha Mixon',\n",
       " 'time': 1597168272670,\n",
       " 'rating': 5,\n",
       " 'text': 'Very Personable staff! Beautiful and clean environment. I will definitely become a regular customer!!',\n",
       " 'pics': None,\n",
       " 'resp': None,\n",
       " 'gmap_id': '0x8862134e67ff5c87:0x38b5e2ae99cd1fcf'}"
      ]
     },
     "execution_count": 4,
     "metadata": {},
     "output_type": "execute_result"
    }
   ],
   "source": [
    "#Cleaning data to not include observations with \"None\" review\n",
    "data = [review for review in review_df if review['text'] is not None]\n",
    "data[0]"
   ]
  },
  {
   "cell_type": "code",
   "execution_count": 5,
   "id": "7cdadde6",
   "metadata": {},
   "outputs": [
    {
     "data": {
      "text/plain": [
       "2700714"
      ]
     },
     "execution_count": 5,
     "metadata": {},
     "output_type": "execute_result"
    }
   ],
   "source": [
    "len(data)"
   ]
  },
  {
   "cell_type": "code",
   "execution_count": 6,
   "id": "73a4fec9",
   "metadata": {},
   "outputs": [],
   "source": [
    "#Convert unix time to datetime\n",
    "from datetime import datetime\n",
    "\n",
    "# Function to convert Unix time in milliseconds to a readable date format\n",
    "def convert_unix_time_to_readable(unix_time_ms):\n",
    "    unix_time_s = unix_time_ms / 1000  # Convert from milliseconds to seconds\n",
    "    dt_object = datetime.utcfromtimestamp(unix_time_s)\n",
    "    return dt_object.strftime('%Y-%m-%d %H:%M:%S')  # Format the date\n",
    "\n",
    "for review in review_df:\n",
    "    if review['time'] is not None:\n",
    "        review['readable_time'] = convert_unix_time_to_readable(review['time'])"
   ]
  },
  {
   "cell_type": "code",
   "execution_count": 7,
   "id": "547c81a4",
   "metadata": {},
   "outputs": [],
   "source": [
    "#Parse Data Time\n",
    "import dateutil.parser\n",
    "\n",
    "for d in data:\n",
    "    t = dateutil.parser.parse(d['readable_time'])\n",
    "    d['parsed_date'] = t"
   ]
  },
  {
   "cell_type": "code",
   "execution_count": 8,
   "id": "87019bae",
   "metadata": {},
   "outputs": [
    {
     "data": {
      "text/plain": [
       "{'user_id': '114043824230907811356',\n",
       " 'name': 'Kanisha Mixon',\n",
       " 'time': 1597168272670,\n",
       " 'rating': 5,\n",
       " 'text': 'Very Personable staff! Beautiful and clean environment. I will definitely become a regular customer!!',\n",
       " 'pics': None,\n",
       " 'resp': None,\n",
       " 'gmap_id': '0x8862134e67ff5c87:0x38b5e2ae99cd1fcf',\n",
       " 'readable_time': '2020-08-11 17:51:12',\n",
       " 'parsed_date': datetime.datetime(2020, 8, 11, 17, 51, 12)}"
      ]
     },
     "execution_count": 8,
     "metadata": {},
     "output_type": "execute_result"
    }
   ],
   "source": [
    "data[0]"
   ]
  },
  {
   "cell_type": "code",
   "execution_count": 9,
   "id": "c0ba0e2a",
   "metadata": {},
   "outputs": [],
   "source": [
    "#Subsetting data to first 50,000 observations\n",
    "dataset = data[:50000]"
   ]
  },
  {
   "cell_type": "code",
   "execution_count": 10,
   "id": "139bcab6",
   "metadata": {},
   "outputs": [],
   "source": [
    "#Train a simple predictor that estimates rating from review length and time"
   ]
  },
  {
   "cell_type": "code",
   "execution_count": 11,
   "id": "cf37a649",
   "metadata": {},
   "outputs": [
    {
     "data": {
      "text/plain": [
       "4089"
      ]
     },
     "execution_count": 11,
     "metadata": {},
     "output_type": "execute_result"
    }
   ],
   "source": [
    "# Find the maximum review length\n",
    "max_length = max(len(d['text']) for d in dataset)\n",
    "max_length"
   ]
  },
  {
   "cell_type": "code",
   "execution_count": 12,
   "id": "f5316816",
   "metadata": {},
   "outputs": [],
   "source": [
    "#One-Hot encode hours, weeks, and months\n",
    "def one_hot_weekday(weekday):\n",
    "    return [1 if i == weekday else 0 for i in range(6)]\n",
    "\n",
    "def one_hot_month(month):\n",
    "    return [1 if i == month-1 else 0 for i in range(11)]\n",
    "\n",
    "def one_hot_hour(hour):\n",
    "    return [1 if i == hour else 0 for i in range(23)]\n",
    "\n",
    "def feature(d):\n",
    "    feat = [1]\n",
    "    feat.append(len(d['text']) / max_length)\n",
    "    feat.extend(one_hot_weekday(t.weekday()))\n",
    "    feat.extend(one_hot_month(t.month))\n",
    "    feat.extend(one_hot_month(t.hour))\n",
    "    return feat"
   ]
  },
  {
   "cell_type": "code",
   "execution_count": 13,
   "id": "6d3db1ac",
   "metadata": {},
   "outputs": [],
   "source": [
    "feature = [feature(d) for d in dataset]\n",
    "ratings = [d['rating'] for d in dataset]"
   ]
  },
  {
   "cell_type": "code",
   "execution_count": 14,
   "id": "9138a017",
   "metadata": {},
   "outputs": [],
   "source": [
    "#Creating X and Y\n",
    "X = np.matrix(feature)\n",
    "Y = np.matrix(ratings).T"
   ]
  },
  {
   "cell_type": "code",
   "execution_count": 15,
   "id": "2d1b5e9b",
   "metadata": {},
   "outputs": [
    {
     "name": "stderr",
     "output_type": "stream",
     "text": [
      "/Users/amber/opt/anaconda3/lib/python3.7/site-packages/sklearn/utils/validation.py:590: FutureWarning: np.matrix usage is deprecated in 1.0 and will raise a TypeError in 1.2. Please convert to a numpy array with np.asarray. For more information see: https://numpy.org/doc/stable/reference/generated/numpy.matrix.html\n",
      "  FutureWarning,\n",
      "/Users/amber/opt/anaconda3/lib/python3.7/site-packages/sklearn/utils/validation.py:590: FutureWarning: np.matrix usage is deprecated in 1.0 and will raise a TypeError in 1.2. Please convert to a numpy array with np.asarray. For more information see: https://numpy.org/doc/stable/reference/generated/numpy.matrix.html\n",
      "  FutureWarning,\n",
      "/Users/amber/opt/anaconda3/lib/python3.7/site-packages/sklearn/utils/validation.py:590: FutureWarning: np.matrix usage is deprecated in 1.0 and will raise a TypeError in 1.2. Please convert to a numpy array with np.asarray. For more information see: https://numpy.org/doc/stable/reference/generated/numpy.matrix.html\n",
      "  FutureWarning,\n"
     ]
    },
    {
     "data": {
      "text/plain": [
       "array([[-7.69217925e+10, -5.86488067e+00,  0.00000000e+00,\n",
       "         0.00000000e+00,  0.00000000e+00,  0.00000000e+00,\n",
       "         3.84608962e+10,  0.00000000e+00,  0.00000000e+00,\n",
       "         0.00000000e+00,  0.00000000e+00,  0.00000000e+00,\n",
       "         0.00000000e+00,  0.00000000e+00,  0.00000000e+00,\n",
       "         3.84608962e+10,  0.00000000e+00,  0.00000000e+00,\n",
       "         0.00000000e+00,  0.00000000e+00,  0.00000000e+00,\n",
       "         0.00000000e+00,  0.00000000e+00,  0.00000000e+00,\n",
       "         0.00000000e+00,  0.00000000e+00,  0.00000000e+00,\n",
       "         0.00000000e+00,  0.00000000e+00,  0.00000000e+00]])"
      ]
     },
     "execution_count": 15,
     "metadata": {},
     "output_type": "execute_result"
    }
   ],
   "source": [
    "#Fitting a model\n",
    "model = linear_model.LinearRegression(fit_intercept=False)\n",
    "model.fit(X, Y)\n",
    "y_pred = model.predict(X)\n",
    "theta = model.coef_\n",
    "theta"
   ]
  },
  {
   "cell_type": "code",
   "execution_count": 50,
   "id": "aefc2356",
   "metadata": {},
   "outputs": [
    {
     "name": "stderr",
     "output_type": "stream",
     "text": [
      "/Users/amber/opt/anaconda3/lib/python3.7/site-packages/sklearn/utils/validation.py:590: FutureWarning: np.matrix usage is deprecated in 1.0 and will raise a TypeError in 1.2. Please convert to a numpy array with np.asarray. For more information see: https://numpy.org/doc/stable/reference/generated/numpy.matrix.html\n",
      "  FutureWarning,\n"
     ]
    },
    {
     "data": {
      "text/plain": [
       "1.3938920546221734"
      ]
     },
     "execution_count": 50,
     "metadata": {},
     "output_type": "execute_result"
    }
   ],
   "source": [
    "#Calculating MSE\n",
    "sse = sum([x**2 for x in (Y - y_pred)])\n",
    "mse = sse / len(Y)\n",
    "mse = mse[0, 0]\n",
    "\n",
    "mse"
   ]
  },
  {
   "cell_type": "code",
   "execution_count": 19,
   "id": "675c3343-75bc-4c11-86b7-e23e75748cd0",
   "metadata": {},
   "outputs": [
    {
     "name": "stdout",
     "output_type": "stream",
     "text": [
      "(50000, 1)\n",
      "(50000, 1)\n"
     ]
    }
   ],
   "source": [
    "print(Y.shape)\n",
    "print(y_pred.shape)"
   ]
  },
  {
   "cell_type": "code",
   "execution_count": 20,
   "id": "63179dfb-7a7a-464d-9eaa-7b3c8a19219a",
   "metadata": {},
   "outputs": [],
   "source": [
    "def plot_residuals(y_actual, y_predicted, title=\"Residual Plot\"):\n",
    "    # Convert y_actual and y_predicted to arrays\n",
    "    y_actual = np.array(y_actual)\n",
    "    y_predicted = np.array(y_predicted)\n",
    "\n",
    "    # Check if the arrays are 2D and reshape if needed\n",
    "    if len(y_actual.shape) == 2:\n",
    "        y_actual = y_actual.flatten()\n",
    "    if len(y_predicted.shape) == 2:\n",
    "        y_predicted = y_predicted.flatten()\n",
    "\n",
    "    # Calculate residuals\n",
    "    residuals = y_actual - y_predicted\n",
    "\n",
    "    # Create the residual plot\n",
    "    plt.figure(figsize=(10, 6))\n",
    "    plt.scatter(y_predicted, residuals, alpha=0.5)\n",
    "    plt.axhline(y=0, color='r', linestyle='-')\n",
    "    plt.title(title)\n",
    "    plt.xlabel('Predicted Values')\n",
    "    plt.ylabel('Residuals')\n",
    "    plt.show()\n"
   ]
  },
  {
   "cell_type": "code",
   "execution_count": 21,
   "id": "1afeca38-9bec-4ae2-8681-556a130282f3",
   "metadata": {},
   "outputs": [
    {
     "data": {
      "image/png": "[encoded data removed]",
      "text/plain": [
       "<Figure size 720x432 with 1 Axes>"
      ]
     },
     "metadata": {
      "needs_background": "light"
     },
     "output_type": "display_data"
    }
   ],
   "source": [
    "# Plot residuals for the simple predictor model\n",
    "plot_residuals(Y, y_pred, title=\"Residuals of Simple Predictor Model\")"
   ]
  },
  {
   "cell_type": "code",
   "execution_count": null,
   "id": "ee35da0b-4c75-403c-9df0-ef91b44ab58c",
   "metadata": {},
   "outputs": [],
   "source": []
  },
  {
   "cell_type": "code",
   "execution_count": null,
   "id": "ac01477d-c3ad-4979-a9b7-91195bf0e5cb",
   "metadata": {},
   "outputs": [],
   "source": []
  },
  {
   "cell_type": "code",
   "execution_count": null,
   "id": "d2bd425a-25d3-483c-bf51-f81747c4d78f",
   "metadata": {},
   "outputs": [],
   "source": []
  },
  {
   "cell_type": "code",
   "execution_count": 67,
   "id": "086ace8a",
   "metadata": {},
   "outputs": [],
   "source": [
    "#Training a Simple Model Using Response Length"
   ]
  },
  {
   "cell_type": "code",
   "execution_count": 58,
   "id": "14c390f6",
   "metadata": {},
   "outputs": [
    {
     "name": "stdout",
     "output_type": "stream",
     "text": [
      "Response 1: No response\n",
      "Response 2: No response\n",
      "Response 3: No response\n",
      "Response 4: No response\n",
      "Response 5: No response\n",
      "Response 6: {'time': 1545580599480, 'text': \"Our team loves being able to help, Ellen! Glad you enjoyed coming in to figure out the best items. If you need anything, we're always here for you. -Lisa V., Owner\"}\n",
      "Response 7: {'time': 1545668611183, 'text': \"I hope it's not too late to thank you for this, Jacqueline -- we love helping out however we can. If you need anything else, feel free to stop by or give us a call. -Lisa V., Owner\"}\n",
      "Response 8: {'time': 1551991855460, 'text': \"Happy you stopped in, Tammie! Hoping you'll make it back our way again soon. -Lisa V., Owner\"}\n",
      "Response 9: No response\n",
      "Response 10: No response\n"
     ]
    }
   ],
   "source": [
    "#Checking how responses are formatted\n",
    "num_responses_to_print = 10\n",
    "\n",
    "# Iterate through the dataset and print the responses\n",
    "for i, record in enumerate(dataset):\n",
    "    if i < num_responses_to_print:\n",
    "        response = record['resp'] if record['resp'] is not None else \"No response\"\n",
    "        print(f\"Response {i+1}: {response}\")\n",
    "    else:\n",
    "        break"
   ]
  },
  {
   "cell_type": "code",
   "execution_count": 22,
   "id": "999cac48",
   "metadata": {},
   "outputs": [
    {
     "data": {
      "text/plain": [
       "2615"
      ]
     },
     "execution_count": 22,
     "metadata": {},
     "output_type": "execute_result"
    }
   ],
   "source": [
    "#Calculating maximum response length\n",
    "#If response is None, length = 0\n",
    "max_resp_length = max(len(d['resp']['text']) if d['resp'] is not None and 'text' in d['resp'] else 0 for d in dataset)\n",
    "max_resp_length"
   ]
  },
  {
   "cell_type": "code",
   "execution_count": 23,
   "id": "bd2c8bd2",
   "metadata": {},
   "outputs": [],
   "source": [
    "def feature(d):\n",
    "    resp_length = len(d['resp']) if d['resp'] is not None else 0\n",
    "    normalized_resp_length = resp_length / max_resp_length if max_resp_length > 0 else 0\n",
    "    return [1, normalized_resp_length]"
   ]
  },
  {
   "cell_type": "code",
   "execution_count": 24,
   "id": "b0977824",
   "metadata": {},
   "outputs": [],
   "source": [
    "response = [feature(d) for d in dataset]\n",
    "ratings = [d['rating'] for d in dataset]"
   ]
  },
  {
   "cell_type": "code",
   "execution_count": 25,
   "id": "cdb4cb57",
   "metadata": {},
   "outputs": [],
   "source": [
    "#Creating X and Y\n",
    "X = np.matrix(response)\n",
    "Y = np.matrix(ratings).T"
   ]
  },
  {
   "cell_type": "code",
   "execution_count": 26,
   "id": "e08513c8",
   "metadata": {},
   "outputs": [
    {
     "name": "stderr",
     "output_type": "stream",
     "text": [
      "/Users/amber/opt/anaconda3/lib/python3.7/site-packages/sklearn/utils/validation.py:590: FutureWarning: np.matrix usage is deprecated in 1.0 and will raise a TypeError in 1.2. Please convert to a numpy array with np.asarray. For more information see: https://numpy.org/doc/stable/reference/generated/numpy.matrix.html\n",
      "  FutureWarning,\n",
      "/Users/amber/opt/anaconda3/lib/python3.7/site-packages/sklearn/utils/validation.py:590: FutureWarning: np.matrix usage is deprecated in 1.0 and will raise a TypeError in 1.2. Please convert to a numpy array with np.asarray. For more information see: https://numpy.org/doc/stable/reference/generated/numpy.matrix.html\n",
      "  FutureWarning,\n",
      "/Users/amber/opt/anaconda3/lib/python3.7/site-packages/sklearn/utils/validation.py:590: FutureWarning: np.matrix usage is deprecated in 1.0 and will raise a TypeError in 1.2. Please convert to a numpy array with np.asarray. For more information see: https://numpy.org/doc/stable/reference/generated/numpy.matrix.html\n",
      "  FutureWarning,\n"
     ]
    },
    {
     "data": {
      "text/plain": [
       "array([[ 4.36298463, 58.29883714]])"
      ]
     },
     "execution_count": 26,
     "metadata": {},
     "output_type": "execute_result"
    }
   ],
   "source": [
    "resp_model = linear_model.LinearRegression(fit_intercept=False)\n",
    "resp_model.fit(X, Y)\n",
    "y_pred = resp_model.predict(X)\n",
    "theta = resp_model.coef_\n",
    "theta"
   ]
  },
  {
   "cell_type": "code",
   "execution_count": 27,
   "id": "f11f6460",
   "metadata": {},
   "outputs": [
    {
     "data": {
      "text/plain": [
       "1.4832036022129724"
      ]
     },
     "execution_count": 27,
     "metadata": {},
     "output_type": "execute_result"
    }
   ],
   "source": [
    "sse = sum([x**2 for x in (Y - y_pred)])\n",
    "mse = sse / len(Y)\n",
    "mse = mse[0, 0]\n",
    "\n",
    "mse"
   ]
  },
  {
   "cell_type": "code",
   "execution_count": 28,
   "id": "3fc039a8",
   "metadata": {},
   "outputs": [
    {
     "name": "stderr",
     "output_type": "stream",
     "text": [
      "/Users/amber/opt/anaconda3/lib/python3.7/site-packages/sklearn/utils/validation.py:590: FutureWarning: np.matrix usage is deprecated in 1.0 and will raise a TypeError in 1.2. Please convert to a numpy array with np.asarray. For more information see: https://numpy.org/doc/stable/reference/generated/numpy.matrix.html\n",
      "  FutureWarning,\n"
     ]
    },
    {
     "data": {
      "image/png": "[encoded data removed]",
      "text/plain": [
       "<Figure size 720x432 with 1 Axes>"
      ]
     },
     "metadata": {
      "needs_background": "light"
     },
     "output_type": "display_data"
    }
   ],
   "source": [
    "y_pred = resp_model.predict(X)\n",
    "\n",
    "# Plot residuals for the response length model\n",
    "plot_residuals(Y, y_pred, title=\"Residuals of Response Length Model\")\n"
   ]
  },
  {
   "cell_type": "code",
   "execution_count": null,
   "id": "b6f0d6a2",
   "metadata": {},
   "outputs": [],
   "source": []
  },
  {
   "cell_type": "code",
   "execution_count": null,
   "id": "c3935582",
   "metadata": {},
   "outputs": [],
   "source": []
  },
  {
   "cell_type": "code",
   "execution_count": 29,
   "id": "4b750c66",
   "metadata": {},
   "outputs": [],
   "source": [
    "#Combined Model - Using all features"
   ]
  },
  {
   "cell_type": "code",
   "execution_count": 30,
   "id": "576a4391",
   "metadata": {},
   "outputs": [],
   "source": [
    "#Model with length of review, time, length of response, if pictures were included"
   ]
  },
  {
   "cell_type": "code",
   "execution_count": 31,
   "id": "dae88723",
   "metadata": {},
   "outputs": [],
   "source": [
    "def feature(d):\n",
    "    feat = [1]\n",
    "    feat.append(len(d['text']) / max_length) \n",
    "    feat.extend(one_hot_weekday(t.weekday()))\n",
    "    feat.extend(one_hot_month(t.month))\n",
    "    feat.extend(one_hot_month(t.hour))\n",
    "\n",
    "    resp_length = len(d['resp']) if d['resp'] is not None else 0\n",
    "    feat.append(resp_length / max_resp_length)\n",
    "    \n",
    "    feat.append(1 if d['pics'] is not None else 0)\n",
    "\n",
    "    return feat"
   ]
  },
  {
   "cell_type": "code",
   "execution_count": 32,
   "id": "d594e8c3",
   "metadata": {},
   "outputs": [],
   "source": [
    "features = [feature(d) for d in dataset]\n",
    "ratings = [d['rating'] for d in dataset]"
   ]
  },
  {
   "cell_type": "code",
   "execution_count": 33,
   "id": "31c80c10",
   "metadata": {},
   "outputs": [],
   "source": [
    "X = np.matrix(features)\n",
    "Y = np.matrix(ratings).T"
   ]
  },
  {
   "cell_type": "code",
   "execution_count": 34,
   "id": "cc5c2bf8",
   "metadata": {},
   "outputs": [
    {
     "name": "stderr",
     "output_type": "stream",
     "text": [
      "/Users/amber/opt/anaconda3/lib/python3.7/site-packages/sklearn/utils/validation.py:590: FutureWarning: np.matrix usage is deprecated in 1.0 and will raise a TypeError in 1.2. Please convert to a numpy array with np.asarray. For more information see: https://numpy.org/doc/stable/reference/generated/numpy.matrix.html\n",
      "  FutureWarning,\n",
      "/Users/amber/opt/anaconda3/lib/python3.7/site-packages/sklearn/utils/validation.py:590: FutureWarning: np.matrix usage is deprecated in 1.0 and will raise a TypeError in 1.2. Please convert to a numpy array with np.asarray. For more information see: https://numpy.org/doc/stable/reference/generated/numpy.matrix.html\n",
      "  FutureWarning,\n",
      "/Users/amber/opt/anaconda3/lib/python3.7/site-packages/sklearn/utils/validation.py:590: FutureWarning: np.matrix usage is deprecated in 1.0 and will raise a TypeError in 1.2. Please convert to a numpy array with np.asarray. For more information see: https://numpy.org/doc/stable/reference/generated/numpy.matrix.html\n",
      "  FutureWarning,\n"
     ]
    },
    {
     "data": {
      "text/plain": [
       "array([[-7.02603323e+12, -6.02746744e+00,  9.02683452e+05,\n",
       "         4.73454590e+01,  3.65812266e+00,  0.00000000e+00,\n",
       "         1.14408444e+12,  0.00000000e+00,  0.00000000e+00,\n",
       "         0.00000000e+00,  0.00000000e+00,  0.00000000e+00,\n",
       "         0.00000000e+00,  0.00000000e+00,  0.00000000e+00,\n",
       "         5.88194879e+12,  0.00000000e+00,  0.00000000e+00,\n",
       "         0.00000000e+00,  0.00000000e+00,  0.00000000e+00,\n",
       "         0.00000000e+00,  0.00000000e+00,  0.00000000e+00,\n",
       "         0.00000000e+00,  0.00000000e+00,  0.00000000e+00,\n",
       "         0.00000000e+00,  0.00000000e+00,  0.00000000e+00,\n",
       "         1.65198463e+02,  3.49223389e-01]])"
      ]
     },
     "execution_count": 34,
     "metadata": {},
     "output_type": "execute_result"
    }
   ],
   "source": [
    "combined_model = linear_model.LinearRegression(fit_intercept=False)\n",
    "combined_model.fit(X, Y)\n",
    "y_pred = combined_model.predict(X)\n",
    "theta = combined_model.coef_\n",
    "theta"
   ]
  },
  {
   "cell_type": "code",
   "execution_count": 35,
   "id": "2a2830eb",
   "metadata": {},
   "outputs": [
    {
     "data": {
      "text/plain": [
       "1.3879576796913147"
      ]
     },
     "execution_count": 35,
     "metadata": {},
     "output_type": "execute_result"
    }
   ],
   "source": [
    "sse = sum([x**2 for x in (Y - y_pred)])\n",
    "mse = sse / len(Y)\n",
    "mse = mse[0, 0]\n",
    "\n",
    "mse"
   ]
  },
  {
   "cell_type": "code",
   "execution_count": 36,
   "id": "08b5bd00-b4d8-4c54-bc40-968fe6c3e50c",
   "metadata": {},
   "outputs": [
    {
     "name": "stderr",
     "output_type": "stream",
     "text": [
      "/Users/amber/opt/anaconda3/lib/python3.7/site-packages/sklearn/utils/validation.py:590: FutureWarning: np.matrix usage is deprecated in 1.0 and will raise a TypeError in 1.2. Please convert to a numpy array with np.asarray. For more information see: https://numpy.org/doc/stable/reference/generated/numpy.matrix.html\n",
      "  FutureWarning,\n"
     ]
    },
    {
     "data": {
      "image/png": "[encoded data removed]",
      "text/plain": [
       "<Figure size 720x432 with 1 Axes>"
      ]
     },
     "metadata": {
      "needs_background": "light"
     },
     "output_type": "display_data"
    }
   ],
   "source": [
    "y_pred = combined_model.predict(X)\n",
    "\n",
    "plot_residuals(Y, y_pred, title=\"Residuals of Combined Model\")\n"
   ]
  },
  {
   "cell_type": "code",
   "execution_count": 37,
   "id": "f6b572cf",
   "metadata": {},
   "outputs": [],
   "source": [
    "#Validating Simple Regression Model"
   ]
  },
  {
   "cell_type": "code",
   "execution_count": 38,
   "id": "72cf7a29",
   "metadata": {},
   "outputs": [
    {
     "name": "stdout",
     "output_type": "stream",
     "text": [
      "6001\n",
      "3993\n"
     ]
    }
   ],
   "source": [
    "#Setting up max review an max response length for entire cleaned data\n",
    "max_length = max(len(d['text']) for d in data)\n",
    "max_resp_length = max(len(d['resp']['text']) if d['resp'] is not None and 'text' in d['resp'] else 0 for d in data)\n",
    "print(max_length)\n",
    "print(max_resp_length)"
   ]
  },
  {
   "cell_type": "code",
   "execution_count": 39,
   "id": "b9a7921e",
   "metadata": {},
   "outputs": [],
   "source": [
    "#Shuffle data to avoid biases\n",
    "random.seed(0)\n",
    "random.shuffle(data)"
   ]
  },
  {
   "cell_type": "code",
   "execution_count": 40,
   "id": "3fedd8a2",
   "metadata": {},
   "outputs": [],
   "source": [
    "#Subsetting dataset into Training and Testing \n",
    "dataTrain = data[:50000]\n",
    "dataValid = data[50000:100000]\n",
    "dataTest = data[100000:150000]"
   ]
  },
  {
   "cell_type": "code",
   "execution_count": 41,
   "id": "0388711d",
   "metadata": {},
   "outputs": [],
   "source": [
    "#Predicting positive ratings (3 or greater)\n",
    "yTrain = [d['rating'] >= 3 for d in dataTrain]\n",
    "yValid = [d['rating'] >= 3 for d in dataValid]\n",
    "yTest = [d['rating'] >= 3 for d in dataTest]"
   ]
  },
  {
   "cell_type": "code",
   "execution_count": 48,
   "id": "a2747435-9d1b-4e42-bcd9-fe08ea3162d6",
   "metadata": {},
   "outputs": [],
   "source": [
    "#Predicting numerical ratings\n",
    "yTrain_num = [d['rating'] for d in dataTrain]\n",
    "yValid_num = [d['rating'] for d in dataValid]\n",
    "yTest_num = [d['rating'] for d in dataTest]"
   ]
  },
  {
   "cell_type": "code",
   "execution_count": 42,
   "id": "506b68bd",
   "metadata": {},
   "outputs": [],
   "source": [
    "# Define the feature function with lengths as parameters\n",
    "def feature(d, max_length, max_resp_length):\n",
    "    feat = [1]\n",
    "    feat.append(len(d['text']) / max_length) \n",
    "\n",
    "    t = dateutil.parser.parse(d['readable_time'])\n",
    "    feat.extend(one_hot_weekday(t.weekday()))\n",
    "    feat.extend(one_hot_month(t.month))\n",
    "    feat.extend(one_hot_hour(t.hour))\n",
    "\n",
    "    resp_length = len(d['resp']) if d['resp'] is not None else 0\n",
    "    feat.append(resp_length / max_resp_length)\n",
    "    \n",
    "    feat.append(1 if d['pics'] is not None else 0)\n",
    "\n",
    "    return feat"
   ]
  },
  {
   "cell_type": "code",
   "execution_count": 43,
   "id": "6fefb173",
   "metadata": {},
   "outputs": [],
   "source": [
    "#from sklearn.linear_model import LogisticRegression\n",
    "\n",
    "# Define the pipeline function\n",
    "def pipeline(reg, dataTrain, dataValid, dataTest, yTrain, yValid, yTest, max_length, max_resp_length):\n",
    "    mod = LogisticRegression(C=reg, class_weight='balanced')\n",
    "\n",
    "    Xtrain = [feature(d, max_length, max_resp_length) for d in dataTrain]\n",
    "    Xvalid = [feature(d, max_length, max_resp_length) for d in dataValid]\n",
    "    Xtest = [feature(d, max_length, max_resp_length) for d in dataTest]\n",
    "    \n",
    "    mod.fit(Xtrain, yTrain)\n",
    "    ypredValid = mod.predict(Xvalid)\n",
    "    ypredTest = mod.predict(Xtest)\n",
    "\n",
    "    # Validation\n",
    "    TP = sum([(a and b) for (a, b) in zip(yValid, ypredValid)])\n",
    "    TN = sum([(not a and not b) for (a, b) in zip(yValid, ypredValid)])\n",
    "    FP = sum([(not a and b) for (a, b) in zip(yValid, ypredValid)])\n",
    "    FN = sum([(a and not b) for (a, b) in zip(yValid, ypredValid)])\n",
    "\n",
    "    TPR = TP / (TP + FN)\n",
    "    TNR = TN / (TN + FP)\n",
    "\n",
    "    vBER = 1 - 0.5 * (TPR + TNR)\n",
    "    print(\"C = \" + str(reg) + \"; validation BER = \" + str(vBER))\n",
    "\n",
    "    # Test\n",
    "    TP = sum([(a and b) for (a, b) in zip(yTest, ypredTest)])\n",
    "    TN = sum([(not a and not b) for (a, b) in zip(yTest, ypredTest)])\n",
    "    FP = sum([(not a and b) for (a, b) in zip(yTest, ypredTest)])\n",
    "    FN = sum([(a and not b) for (a, b) in zip(yTest, ypredTest)])\n",
    "\n",
    "    TPR = TP / (TP + FN)\n",
    "    TNR = TN / (TN + FP)\n",
    "\n",
    "    tBER = 1 - 0.5 * (TPR + TNR)\n",
    "    print(\"C = \" + str(reg) + \"; test BER = \" + str(tBER))\n",
    "\n",
    "    return mod, vBER, tBER"
   ]
  },
  {
   "cell_type": "code",
   "execution_count": 44,
   "id": "49fce139",
   "metadata": {},
   "outputs": [
    {
     "name": "stdout",
     "output_type": "stream",
     "text": [
      "C = 0.001; validation BER = 0.47202592885209893\n",
      "C = 0.001; test BER = 0.4707742928921901\n",
      "C = 0.001; Validation BER: 0.47202592885209893, Test BER: 0.4707742928921901\n",
      "C = 0.01; validation BER = 0.42926650841177616\n",
      "C = 0.01; test BER = 0.4336540383860571\n",
      "C = 0.01; Validation BER: 0.42926650841177616, Test BER: 0.4336540383860571\n",
      "C = 0.1; validation BER = 0.37281183540077223\n",
      "C = 0.1; test BER = 0.3750971941040514\n",
      "C = 0.1; Validation BER: 0.37281183540077223, Test BER: 0.3750971941040514\n",
      "C = 1; validation BER = 0.3633908104168644\n",
      "C = 1; test BER = 0.36400684351451407\n",
      "C = 1; Validation BER: 0.3633908104168644, Test BER: 0.36400684351451407\n",
      "C = 10; validation BER = 0.36319396074937027\n",
      "C = 10; test BER = 0.3630690740255098\n",
      "C = 10; Validation BER: 0.36319396074937027, Test BER: 0.3630690740255098\n",
      "C = 100; validation BER = 0.3626061950636674\n",
      "C = 100; test BER = 0.3632271866300768\n",
      "C = 100; Validation BER: 0.3626061950636674, Test BER: 0.3632271866300768\n",
      "Best C: 100, Best Validation BER: 0.3626061950636674, Best Test BER: 0.3632271866300768\n"
     ]
    }
   ],
   "source": [
    "#Tuning C\n",
    "best_C = None\n",
    "best_vBER = float('inf')\n",
    "best_tBER = float('inf')\n",
    "\n",
    "for c in [0.001, 0.01, 0.1, 1, 10, 100]:\n",
    "    _, vBER, tBER = pipeline(c, dataTrain, dataValid, dataTest, yTrain, yValid, yTest, max_length, max_resp_length)\n",
    "    print(f\"C = {c}; Validation BER: {vBER}, Test BER: {tBER}\")\n",
    "\n",
    "    if vBER < best_vBER:\n",
    "        best_C = c\n",
    "        best_vBER = vBER\n",
    "        best_tBER = tBER\n",
    "\n",
    "print(f\"Best C: {best_C}, Best Validation BER: {best_vBER}, Best Test BER: {best_tBER}\")\n"
   ]
  },
  {
   "cell_type": "code",
   "execution_count": 45,
   "id": "cd592c60",
   "metadata": {},
   "outputs": [
    {
     "name": "stdout",
     "output_type": "stream",
     "text": [
      "C = 100; validation BER = 0.3626061950636674\n",
      "C = 100; test BER = 0.3632271866300768\n"
     ]
    }
   ],
   "source": [
    "# Call the pipeline function with C = 100\n",
    "model, vBER, tBER = pipeline(100, dataTrain, dataValid, dataTest, yTrain, yValid, yTest, max_length, max_resp_length)"
   ]
  },
  {
   "cell_type": "code",
   "execution_count": 49,
   "id": "5c9225cc-d902-477e-8a9a-4bfff3e74cfa",
   "metadata": {},
   "outputs": [],
   "source": [
    "# Train model on the training data\n",
    "X_train = [feature(d, max_length, max_resp_length) for d in dataTrain]\n",
    "\n",
    "# Regularized regression\n",
    "clf = linear_model.Ridge(1.0, fit_intercept=False)  # MSE + 1.0 l2\n",
    "clf.fit(X_train, yTrain_num)\n",
    "theta = clf.coef_"
   ]
  },
  {
   "cell_type": "code",
   "execution_count": 50,
   "id": "c7756522-56c1-495c-9132-a31d5820bbcb",
   "metadata": {},
   "outputs": [],
   "source": [
    "X_valid = [feature(d, max_length, max_resp_length) for d in dataValid]\n",
    "X_test = [feature(d, max_length, max_resp_length) for d in dataTest]"
   ]
  },
  {
   "cell_type": "code",
   "execution_count": 51,
   "id": "d5578667-98f9-481b-bb09-9d2a1c5c210c",
   "metadata": {},
   "outputs": [],
   "source": [
    "predictions_valid = clf.predict(X_valid)\n",
    "predictions_test = clf.predict(X_test)"
   ]
  },
  {
   "cell_type": "code",
   "execution_count": 52,
   "id": "ba47ad2a-2fef-4eea-8cff-51fba943628f",
   "metadata": {},
   "outputs": [
    {
     "name": "stdout",
     "output_type": "stream",
     "text": [
      "Validation MSE: 1.3284082109787654\n",
      "Test MSE: 1.3438885745631497\n"
     ]
    }
   ],
   "source": [
    "# Calculate MSE\n",
    "mse_valid = mean_squared_error(yValid_num, predictions_valid)\n",
    "mse_test = mean_squared_error(yTest_num, predictions_test)\n",
    "print(\"Validation MSE:\", mse_valid)\n",
    "print(\"Test MSE:\", mse_test)"
   ]
  },
  {
   "cell_type": "code",
   "execution_count": 53,
   "id": "e6a216d8-e6f6-423a-ac4e-1b353015e5ee",
   "metadata": {},
   "outputs": [],
   "source": [
    "# Calculate accuracy\n",
    "threshold = 3\n",
    "binary_predictions_valid = [1 if p >= threshold else 0 for p in predictions_valid]\n",
    "binary_predictions_test = [1 if p >= threshold else 0 for p in predictions_test]"
   ]
  },
  {
   "cell_type": "code",
   "execution_count": 54,
   "id": "f550b7a3-93b6-42d9-ab9b-3af103a47e5b",
   "metadata": {},
   "outputs": [
    {
     "name": "stdout",
     "output_type": "stream",
     "text": [
      "Validation Accuracy: 0.89184\n",
      "Test Accuracy: 0.89006\n"
     ]
    }
   ],
   "source": [
    "accuracy_valid = accuracy_score(yValid, binary_predictions_valid)\n",
    "accuracy_test = accuracy_score(yTest, binary_predictions_test)\n",
    "\n",
    "print(\"Validation Accuracy:\", accuracy_valid)\n",
    "print(\"Test Accuracy:\", accuracy_test)"
   ]
  },
  {
   "cell_type": "code",
   "execution_count": null,
   "id": "082013e0-1fb6-4441-91d3-60c305c835a8",
   "metadata": {},
   "outputs": [],
   "source": []
  },
  {
   "cell_type": "code",
   "execution_count": null,
   "id": "a2ed7c85-2806-482c-b98a-6d27f3031f32",
   "metadata": {},
   "outputs": [],
   "source": [
    "#Plots of Validated Model"
   ]
  },
  {
   "cell_type": "code",
   "execution_count": 70,
   "id": "e758ddcb-54d5-44f8-9ffc-81fc0599a9b2",
   "metadata": {},
   "outputs": [
    {
     "data": {
      "image/png": "[encoded data removed]",
      "text/plain": [
       "<Figure size 720x432 with 1 Axes>"
      ]
     },
     "metadata": {
      "needs_background": "light"
     },
     "output_type": "display_data"
    }
   ],
   "source": [
    "# Assuming you have your model (clf) and data ready\n",
    "from sklearn.model_selection import learning_curve\n",
    "train_sizes, train_scores, valid_scores = learning_curve(clf, X_train, yTrain_num, cv=5, scoring='neg_mean_squared_error')\n",
    "\n",
    "# Calculate mean squared errors\n",
    "train_mse = -train_scores.mean(axis=1)\n",
    "valid_mse = -valid_scores.mean(axis=1)\n",
    "\n",
    "# Create learning curve plot\n",
    "plt.figure(figsize=(10, 6))\n",
    "plt.plot(train_sizes, train_mse, marker='o', label='Training MSE')\n",
    "plt.plot(train_sizes, valid_mse, marker='o', label='Validation MSE')\n",
    "plt.xlabel('Number of Training Samples')\n",
    "plt.ylabel('Mean Squared Error (MSE)')\n",
    "plt.title('Learning Curves Model 1')\n",
    "plt.legend()\n",
    "plt.grid(True)\n",
    "plt.show()"
   ]
  },
  {
   "cell_type": "code",
   "execution_count": null,
   "id": "8819cf17-a104-45d6-86e1-3a799c9a4527",
   "metadata": {},
   "outputs": [],
   "source": []
  },
  {
   "cell_type": "code",
   "execution_count": null,
   "id": "f0cff602-8883-4ac4-bb83-ffc91054d449",
   "metadata": {},
   "outputs": [],
   "source": []
  },
  {
   "cell_type": "code",
   "execution_count": null,
   "id": "db606ac0",
   "metadata": {},
   "outputs": [],
   "source": []
  },
  {
   "cell_type": "code",
   "execution_count": null,
   "id": "c4713c69",
   "metadata": {},
   "outputs": [],
   "source": [
    "#Sentiment Analysis Model"
   ]
  },
  {
   "cell_type": "code",
   "execution_count": 70,
   "id": "62e2bc85",
   "metadata": {},
   "outputs": [
    {
     "name": "stdout",
     "output_type": "stream",
     "text": [
      "Requirement already satisfied: nltk in /Users/amber/opt/anaconda3/lib/python3.7/site-packages (3.6.5)\n",
      "Requirement already satisfied: click in /Users/amber/opt/anaconda3/lib/python3.7/site-packages (from nltk) (8.0.3)\n",
      "Requirement already satisfied: joblib in /Users/amber/opt/anaconda3/lib/python3.7/site-packages (from nltk) (1.1.0)\n",
      "Requirement already satisfied: regex>=2021.8.3 in /Users/amber/opt/anaconda3/lib/python3.7/site-packages (from nltk) (2021.8.3)\n",
      "Requirement already satisfied: tqdm in /Users/amber/opt/anaconda3/lib/python3.7/site-packages (from nltk) (4.62.3)\n",
      "Requirement already satisfied: importlib-metadata in /Users/amber/opt/anaconda3/lib/python3.7/site-packages (from click->nltk) (4.8.1)\n",
      "Requirement already satisfied: typing-extensions>=3.6.4 in /Users/amber/opt/anaconda3/lib/python3.7/site-packages (from importlib-metadata->click->nltk) (4.7.1)\n",
      "Requirement already satisfied: zipp>=0.5 in /Users/amber/opt/anaconda3/lib/python3.7/site-packages (from importlib-metadata->click->nltk) (3.6.0)\n",
      "Note: you may need to restart the kernel to use updated packages.\n"
     ]
    }
   ],
   "source": [
    "#pip install nltk"
   ]
  },
  {
   "cell_type": "code",
   "execution_count": 74,
   "id": "cbd7efb8",
   "metadata": {},
   "outputs": [],
   "source": [
    "from nltk.sentiment.vader import SentimentIntensityAnalyzer\n",
    "from collections import defaultdict\n",
    "import string"
   ]
  },
  {
   "cell_type": "code",
   "execution_count": 75,
   "id": "6e283493",
   "metadata": {},
   "outputs": [],
   "source": [
    "sid = SentimentIntensityAnalyzer()\n",
    "punctuation = set(string.punctuation)"
   ]
  },
  {
   "cell_type": "code",
   "execution_count": 76,
   "id": "c6aa5339",
   "metadata": {},
   "outputs": [],
   "source": [
    "def review_sentiment_feature(d):\n",
    "    r = ''.join([c for c in d['text'].lower() if not c in punctuation])\n",
    "    sentiment = sid.polarity_scores(r)\n",
    "    overall_sentiment = sentiment['compound']\n",
    "    return [overall_sentiment, 1]"
   ]
  },
  {
   "cell_type": "code",
   "execution_count": 77,
   "id": "bfe53974",
   "metadata": {},
   "outputs": [],
   "source": [
    "def response_sentiment_feature(d):\n",
    "    if d.get('resp') and 'text' in d['resp']:\n",
    "        response_text = ''.join([c for c in d['resp']['text'].lower() if c not in punctuation])\n",
    "        return sid.polarity_scores(response_text)['compound']\n",
    "    else:\n",
    "        return 0\n"
   ]
  },
  {
   "cell_type": "code",
   "execution_count": 78,
   "id": "a05bcd95",
   "metadata": {},
   "outputs": [],
   "source": [
    "def sentiment_feature(d):\n",
    "    feat = [1]\n",
    "\n",
    "    # Calculate sentiment score for review text\n",
    "    review_text = ''.join([c for c in d['text'].lower() if c not in punctuation])\n",
    "    review_sentiment = sid.polarity_scores(review_text)['compound']\n",
    "    feat.append(review_sentiment)\n",
    "\n",
    "    # Calculate sentiment score for response text, if available\n",
    "    if d.get('resp') and 'text' in d['resp']:\n",
    "        response_text = ''.join([c for c in d['resp']['text'].lower() if c not in punctuation])\n",
    "        response_sentiment = sid.polarity_scores(response_text)['compound']\n",
    "    else:\n",
    "        response_sentiment = 0  # Default to 0 if no response text\n",
    "    feat.append(response_sentiment) \n",
    "    return feat\n"
   ]
  },
  {
   "cell_type": "code",
   "execution_count": 79,
   "id": "6d6b5430",
   "metadata": {},
   "outputs": [
    {
     "name": "stdout",
     "output_type": "stream",
     "text": [
      "Text 1: Very Personable staff! Beautiful and clean environment. I will definitely become a regular customer!!\n",
      "Rating: 5, Sentiment Score: [0.8612, 1]\n",
      "\n",
      "Text 2: Best clothing intown\n",
      "Rating: 5, Sentiment Score: [0.6369, 1]\n",
      "\n",
      "Text 3: Not friendly at all, as I ask questions about a seat it was like I was nothing more than a bother.... I am all for supporting local businesses. However, the attitude did it for me on this one!\n",
      "Rating: 1, Sentiment Score: [0.6142, 1]\n",
      "\n",
      "Text 4: They have beautiful baby and children's clothing, shoes, cloth diapers, jewelry including amber necklaces. Cribs and bedding. Hair bows galore! I love going in to shop for my granddaughter occasionally but it's expensive! That's the only reason I don't give it 5 stars. Cute and Posh!\n",
      "Rating: 4, Sentiment Score: [0.8422, 1]\n",
      "\n",
      "Text 5: Cute shop, but the lack of boy clothes is sad. There were multiple racks of girl clothes and maybe 2 racks of boy clothes. Check out All About Baby in Huntsville instead, many more boy clothing options.\n",
      "Rating: 3, Sentiment Score: [-0.7269, 1]\n",
      "\n",
      "Text 6: Great local shop for all your baby needs. The staff is friendly and very knowledgeable. It is nice to be able to actually touch and see the products before you buy them!\n",
      "Rating: 5, Sentiment Score: [0.8779, 1]\n",
      "\n",
      "Text 7: If you need anything for baby ,this is your place ! Very friendly , helpful and kind staff  !  You can get anything  pertaining  to baby or mommy  here ! Cribs,rockers,  clothes car seats to bows and necklace.  Love this place !!\n",
      "Rating: 5, Sentiment Score: [0.9345, 1]\n",
      "\n",
      "Text 8: Great help. Unusual items. Beautiful gift bag.\n",
      "Rating: 4, Sentiment Score: [0.9274, 1]\n",
      "\n",
      "Text 9: I cant thank them enough for all there help and guidance through our cloth diapering and preemie clothing. Our little girl was 34 weeks and Lisa made sure clothes we got would fit. Which can be confusing considering all the sizes p1,p2,p3 ,preemie, newborn and etc. Which to a Dad can be hard to keep straight and overwhelming sometimes. Excellent service all the around. Thanks you so much.\n",
      "Rating: 5, Sentiment Score: [0.8907, 1]\n",
      "\n",
      "Text 10: Great place to shop for babies and small children. They have clothes, furniture, and do monograms. The staff and owners are very helpful and accommodating.\n",
      "Rating: 5, Sentiment Score: [0.8016, 1]\n",
      "\n"
     ]
    }
   ],
   "source": [
    "# Checking sentimate scores of review text\n",
    "# Iterate through the dataset\n",
    "for i, d in enumerate(dataset[:10]):\n",
    "    sentiment_score = review_sentiment_feature(d)\n",
    "    text = d['text']\n",
    "    rating = d['rating']\n",
    "    print(f\"Text {i+1}: {text}\")\n",
    "    print(f\"Rating: {rating}, Sentiment Score: {sentiment_score}\\n\") \n"
   ]
  },
  {
   "cell_type": "code",
   "execution_count": 80,
   "id": "344592d2",
   "metadata": {},
   "outputs": [
    {
     "name": "stdout",
     "output_type": "stream",
     "text": [
      "Response 1: No response\n",
      "Response Sentiment Score: 0\n",
      "\n",
      "Response 2: No response\n",
      "Response Sentiment Score: 0\n",
      "\n",
      "Response 3: No response\n",
      "Response Sentiment Score: 0\n",
      "\n",
      "Response 4: No response\n",
      "Response Sentiment Score: 0\n",
      "\n",
      "Response 5: No response\n",
      "Response Sentiment Score: 0\n",
      "\n",
      "Response 6: Our team loves being able to help, Ellen! Glad you enjoyed coming in to figure out the best items. If you need anything, we're always here for you. -Lisa V., Owner\n",
      "Response Sentiment Score: 0.9509\n",
      "\n",
      "Response 7: I hope it's not too late to thank you for this, Jacqueline -- we love helping out however we can. If you need anything else, feel free to stop by or give us a call. -Lisa V., Owner\n",
      "Response Sentiment Score: 0.9169\n",
      "\n",
      "Response 8: Happy you stopped in, Tammie! Hoping you'll make it back our way again soon. -Lisa V., Owner\n",
      "Response Sentiment Score: 0.6808\n",
      "\n",
      "Response 9: No response\n",
      "Response Sentiment Score: 0\n",
      "\n",
      "Response 10: No response\n",
      "Response Sentiment Score: 0\n",
      "\n"
     ]
    }
   ],
   "source": [
    "# Checking sentimate scores of response text\n",
    "# Iterate through the dataset\n",
    "for i, d in enumerate(dataset[:10]):\n",
    "    response_sentiment = response_sentiment_feature(d)\n",
    "    response_text = d['resp']['text'] if d.get('resp') and 'text' in d['resp'] else \"No response\"\n",
    "\n",
    "    print(f\"Response {i+1}: {response_text}\")\n",
    "    print(f\"Response Sentiment Score: {response_sentiment}\\n\")\n"
   ]
  },
  {
   "cell_type": "code",
   "execution_count": 81,
   "id": "a5719b60",
   "metadata": {},
   "outputs": [],
   "source": [
    "X = [sentiment_feature(d) for d in dataset]\n",
    "y = [d['rating'] for d in dataset] \n",
    "\n",
    "# Regularized regression\n",
    "clf = linear_model.Ridge(1.0, fit_intercept=False)  # MSE + 1.0 l2\n",
    "clf.fit(X, y)\n",
    "theta = clf.coef_\n",
    "predictions = clf.predict(X)"
   ]
  },
  {
   "cell_type": "code",
   "execution_count": 82,
   "id": "4baa16d1",
   "metadata": {},
   "outputs": [
    {
     "data": {
      "text/plain": [
       "0.91194308795543"
      ]
     },
     "execution_count": 82,
     "metadata": {},
     "output_type": "execute_result"
    }
   ],
   "source": [
    "mse = sum((y - predictions) ** 2) / len(y)\n",
    "mse"
   ]
  },
  {
   "cell_type": "code",
   "execution_count": 83,
   "id": "f51d8152",
   "metadata": {},
   "outputs": [],
   "source": [
    "#Validating Sentiment Model"
   ]
  },
  {
   "cell_type": "code",
   "execution_count": 84,
   "id": "8964bf0a",
   "metadata": {},
   "outputs": [],
   "source": [
    "def calculate_BER(y_true, y_pred):\n",
    "    TP = sum([(a and b) for (a, b) in zip(y_true, y_pred)])\n",
    "    TN = sum([(not a and not b) for (a, b) in zip(y_true, y_pred)])\n",
    "    FP = sum([(not a and b) for (a, b) in zip(y_true, y_pred)])\n",
    "    FN = sum([(a and not b) for (a, b) in zip(y_true, y_pred)])\n",
    "\n",
    "    TPR = TP / (TP + FN) if (TP + FN) > 0 else 0\n",
    "    TNR = TN / (TN + FP) if (TN + FP) > 0 else 0\n",
    "\n",
    "    return 1 - 0.5 * (TPR + TNR)\n",
    "\n",
    "def sentiment_pipeline(reg, dataTrain, dataValid, dataTest, yTrain, yValid, yTest):\n",
    "    mod = LogisticRegression(C=reg, class_weight='balanced')\n",
    "\n",
    "    # Use sentiment_feature for feature extraction\n",
    "    Xtrain = [sentiment_feature(d) for d in dataTrain]\n",
    "    Xvalid = [sentiment_feature(d) for d in dataValid]\n",
    "    Xtest = [sentiment_feature(d) for d in dataTest]\n",
    "\n",
    "    mod.fit(Xtrain, yTrain)\n",
    "    ypredValid = mod.predict(Xvalid)\n",
    "    ypredTest = mod.predict(Xtest)\n",
    "\n",
    "    # Calculate BER for validation and test sets\n",
    "    BER_valid = calculate_BER(yValid, ypredValid)\n",
    "    BER_test = calculate_BER(yTest, ypredTest)\n",
    "\n",
    "    print(f\"C = {reg}; Validation BER = {BER_valid}, Test BER = {BER_test}\")\n",
    "\n",
    "    return mod, BER_valid, BER_test"
   ]
  },
  {
   "cell_type": "code",
   "execution_count": 85,
   "id": "cc33f270",
   "metadata": {},
   "outputs": [
    {
     "name": "stdout",
     "output_type": "stream",
     "text": [
      "C = 0.001; Validation BER = 0.189539516543475, Test BER = 0.18884248953206706\n",
      "C = 0.001; Validation BER: 0.189539516543475, Test BER: 0.18884248953206706\n",
      "C = 0.01; Validation BER = 0.18802803554292236, Test BER = 0.18815793539301917\n",
      "C = 0.01; Validation BER: 0.18802803554292236, Test BER: 0.18815793539301917\n",
      "C = 0.1; Validation BER = 0.1880896226026667, Test BER = 0.18797597551153156\n",
      "C = 0.1; Validation BER: 0.1880896226026667, Test BER: 0.18797597551153156\n",
      "C = 1; Validation BER = 0.18806525622884895, Test BER = 0.1880097114267869\n",
      "C = 1; Validation BER: 0.18806525622884895, Test BER: 0.1880097114267869\n",
      "C = 10; Validation BER = 0.18807648007728206, Test BER = 0.18802095673187202\n",
      "C = 10; Validation BER: 0.18807648007728206, Test BER: 0.18802095673187202\n",
      "C = 100; Validation BER = 0.18807648007728206, Test BER = 0.18802095673187202\n",
      "C = 100; Validation BER: 0.18807648007728206, Test BER: 0.18802095673187202\n",
      "Best C: 0.01, Best Validation BER: 0.18802803554292236, Best Test BER: 0.18815793539301917\n"
     ]
    }
   ],
   "source": [
    "#Tuning C\n",
    "best_C = None\n",
    "best_BER_valid = float('inf')\n",
    "best_BER_test = float('inf')\n",
    "\n",
    "for c in [0.001, 0.01, 0.1, 1, 10, 100]:\n",
    "    _, BER_valid, BER_test = sentiment_pipeline(c, dataTrain, dataValid, dataTest, yTrain, yValid, yTest)\n",
    "    print(f\"C = {c}; Validation BER: {BER_valid}, Test BER: {BER_test}\")\n",
    "\n",
    "    if BER_valid < best_BER_valid:\n",
    "        best_C = c\n",
    "        best_BER_valid = BER_valid\n",
    "        best_BER_test = BER_test\n",
    "\n",
    "print(f\"Best C: {best_C}, Best Validation BER: {best_BER_valid}, Best Test BER: {best_BER_test}\")\n"
   ]
  },
  {
   "cell_type": "code",
   "execution_count": 86,
   "id": "6cd1dd22",
   "metadata": {},
   "outputs": [
    {
     "name": "stdout",
     "output_type": "stream",
     "text": [
      "C = 0.01; Validation BER = 0.18802803554292236, Test BER = 0.18815793539301917\n"
     ]
    },
    {
     "data": {
      "text/plain": [
       "(LogisticRegression(C=0.01, class_weight='balanced'),\n",
       " 0.18802803554292236,\n",
       " 0.18815793539301917)"
      ]
     },
     "execution_count": 86,
     "metadata": {},
     "output_type": "execute_result"
    }
   ],
   "source": [
    "#Call pipeline with C = .01 \n",
    "sentiment_pipeline(.01, dataTrain, dataValid, dataTest, yTrain, yValid, yTest)"
   ]
  },
  {
   "cell_type": "code",
   "execution_count": 89,
   "id": "d89b44d1",
   "metadata": {},
   "outputs": [],
   "source": [
    "# Regularized regression\n",
    "X_train = [sentiment_feature(d) for d in dataTrain]\n",
    "\n",
    "clf = linear_model.Ridge(alpha=1.0, fit_intercept=False)\n",
    "clf.fit(X_train, yTrain_num)\n",
    "theta = clf.coef_\n",
    "\n",
    "# Extract features for validation and test data\n",
    "X_valid = [sentiment_feature(d) for d in dataValid]\n",
    "X_test = [sentiment_feature(d) for d in dataTest]\n",
    "\n",
    "# Make predictions on validation and test data\n",
    "predictions_valid = clf.predict(X_valid)\n",
    "predictions_test = clf.predict(X_test)"
   ]
  },
  {
   "cell_type": "code",
   "execution_count": 90,
   "id": "a0a9f37e-db9d-4f18-bfa0-d8236c227db9",
   "metadata": {},
   "outputs": [
    {
     "name": "stdout",
     "output_type": "stream",
     "text": [
      "Validation MSE: 0.9097335310838123\n",
      "Test MSE: 0.9108771627538296\n"
     ]
    }
   ],
   "source": [
    "# Calculate Mean Squared Error (MSE) for validation and test sets\n",
    "mse_valid = mean_squared_error(yValid_num, predictions_valid)\n",
    "mse_test = mean_squared_error(yTest_num, predictions_test)\n",
    "\n",
    "print(\"Validation MSE:\", mse_valid)\n",
    "print(\"Test MSE:\", mse_test)\n"
   ]
  },
  {
   "cell_type": "code",
   "execution_count": 91,
   "id": "5002b176-3275-4afb-8901-beedc60b8670",
   "metadata": {},
   "outputs": [
    {
     "name": "stdout",
     "output_type": "stream",
     "text": [
      "Validation Accuracy: 0.91448\n",
      "Test Accuracy: 0.9141\n"
     ]
    }
   ],
   "source": [
    "# Calculate accuracy using a threshold\n",
    "threshold = 3\n",
    "binary_predictions_valid = [1 if p >= threshold else 0 for p in predictions_valid]\n",
    "binary_predictions_test = [1 if p >= threshold else 0 for p in predictions_test]\n",
    "\n",
    "accuracy_valid = accuracy_score(yValid, binary_predictions_valid)\n",
    "accuracy_test = accuracy_score(yTest, binary_predictions_test)\n",
    "\n",
    "print(\"Validation Accuracy:\", accuracy_valid)\n",
    "print(\"Test Accuracy:\", accuracy_test)"
   ]
  },
  {
   "cell_type": "code",
   "execution_count": null,
   "id": "849e82b1-6c1a-4323-b244-1bb1bba1bc87",
   "metadata": {},
   "outputs": [],
   "source": []
  },
  {
   "cell_type": "code",
   "execution_count": 92,
   "id": "41c320f6",
   "metadata": {},
   "outputs": [],
   "source": [
    "#Plots of Model 2"
   ]
  },
  {
   "cell_type": "code",
   "execution_count": 93,
   "id": "7ec99537",
   "metadata": {},
   "outputs": [
    {
     "data": {
      "image/png": "[encoded data removed]",
      "text/plain": [
       "<Figure size 720x432 with 1 Axes>"
      ]
     },
     "metadata": {
      "needs_background": "light"
     },
     "output_type": "display_data"
    }
   ],
   "source": [
    "train_sizes, train_scores, valid_scores = learning_curve(clf, X_train, yTrain_num, cv=5, scoring='neg_mean_squared_error')\n",
    "\n",
    "# Calculate mean squared errors\n",
    "train_mse = -train_scores.mean(axis=1)\n",
    "valid_mse = -valid_scores.mean(axis=1)\n",
    "\n",
    "# Create learning curve plot\n",
    "plt.figure(figsize=(10, 6))\n",
    "plt.plot(train_sizes, train_mse, marker='o', label='Training MSE')\n",
    "plt.plot(train_sizes, valid_mse, marker='o', label='Validation MSE')\n",
    "plt.xlabel('Number of Training Samples')\n",
    "plt.ylabel('Mean Squared Error (MSE)')\n",
    "plt.title('Learning Curves Model 2')\n",
    "plt.legend()\n",
    "plt.grid(True)\n",
    "plt.show()"
   ]
  },
  {
   "cell_type": "code",
   "execution_count": null,
   "id": "0d18d8ed-7636-481c-a321-52673ddd8e64",
   "metadata": {},
   "outputs": [],
   "source": []
  },
  {
   "cell_type": "code",
   "execution_count": null,
   "id": "57e54ae4-c5d3-430a-849b-80c3e46d713d",
   "metadata": {},
   "outputs": [],
   "source": []
  },
  {
   "cell_type": "code",
   "execution_count": null,
   "id": "6a45c617-1e81-4b2e-a21e-1c7f240ed3cd",
   "metadata": {},
   "outputs": [],
   "source": []
  },
  {
   "cell_type": "code",
   "execution_count": null,
   "id": "ca1be561",
   "metadata": {},
   "outputs": [],
   "source": [
    "#Model 2 and significant coefficients from model 1"
   ]
  },
  {
   "cell_type": "code",
   "execution_count": 94,
   "id": "cb7e10a7",
   "metadata": {},
   "outputs": [],
   "source": [
    "def sentiment_feature2(d, max_length):\n",
    "    feat = [1]\n",
    "\n",
    "    # Calculate sentiment score for review text\n",
    "    review_text = ''.join([c for c in d['text'].lower() if c not in punctuation])\n",
    "    review_sentiment = sid.polarity_scores(review_text)['compound']\n",
    "    feat.append(review_sentiment)\n",
    "\n",
    "    # Calculate sentiment score for response text, if available\n",
    "    if d.get('resp') and 'text' in d['resp']:\n",
    "        response_text = ''.join([c for c in d['resp']['text'].lower() if c not in punctuation])\n",
    "        response_sentiment = sid.polarity_scores(response_text)['compound']\n",
    "    else:\n",
    "        response_sentiment = 0  # Default to 0 if no response text\n",
    "    feat.append(response_sentiment) \n",
    "\n",
    "    # Additional features\n",
    "    feat.append(len(d['text']) / max_length)  # Length of 'text' normalized by max_length\n",
    "    feat.extend(one_hot_hour(t.hour))  # One-hot encoding for hour of the day\n",
    "    feat.append(1 if d['pics'] is not None else 0)  # Presence of pictures\n",
    "\n",
    "    return feat\n"
   ]
  },
  {
   "cell_type": "code",
   "execution_count": 95,
   "id": "fe502521",
   "metadata": {},
   "outputs": [],
   "source": [
    "X = [sentiment_feature2(d, max_length) for d in dataset]\n",
    "y = [d['rating'] for d in dataset] \n",
    "\n",
    "# Regularized regression\n",
    "clf = linear_model.Ridge(1.0, fit_intercept=False)  # MSE + 1.0 l2\n",
    "clf.fit(X, y)\n",
    "theta = clf.coef_\n",
    "predictions = clf.predict(X)"
   ]
  },
  {
   "cell_type": "code",
   "execution_count": 96,
   "id": "76ee3faf",
   "metadata": {},
   "outputs": [
    {
     "data": {
      "text/plain": [
       "0.8390368071835136"
      ]
     },
     "execution_count": 96,
     "metadata": {},
     "output_type": "execute_result"
    }
   ],
   "source": [
    "mse = sum((y - predictions) ** 2) / len(y)\n",
    "mse"
   ]
  },
  {
   "cell_type": "code",
   "execution_count": 97,
   "id": "2a78ef8d",
   "metadata": {},
   "outputs": [],
   "source": [
    "#Validating Sentiment2 Model"
   ]
  },
  {
   "cell_type": "code",
   "execution_count": 98,
   "id": "3fde0462",
   "metadata": {},
   "outputs": [],
   "source": [
    "#Subsetting dataset into Training and Testing \n",
    "dataTrain = data[:50000]\n",
    "dataValid = data[50000:100000]\n",
    "dataTest = data[100000:150000]"
   ]
  },
  {
   "cell_type": "code",
   "execution_count": 99,
   "id": "4872465a",
   "metadata": {},
   "outputs": [],
   "source": [
    "#Predicting positive ratings (3 or greater)\n",
    "yTrain_bin = [d['rating'] >= 3 for d in dataTrain]\n",
    "yValid_bin = [d['rating'] >= 3 for d in dataValid]\n",
    "yTest_bin = [d['rating'] >= 3 for d in dataTest]"
   ]
  },
  {
   "cell_type": "code",
   "execution_count": 100,
   "id": "e72e0147",
   "metadata": {},
   "outputs": [],
   "source": [
    "#Predicting numerical ratings\n",
    "yTrain_num = [d['rating'] for d in dataTrain]\n",
    "yValid_num = [d['rating'] for d in dataValid]\n",
    "yTest_num = [d['rating'] for d in dataTest]"
   ]
  },
  {
   "cell_type": "code",
   "execution_count": 101,
   "id": "afb3e520",
   "metadata": {},
   "outputs": [],
   "source": [
    "# Train model on the training data\n",
    "X_train = [sentiment_feature2(d, max_length) for d in dataTrain]\n",
    "\n",
    "# Regularized regression\n",
    "clf = linear_model.Ridge(1.0, fit_intercept=False)  # MSE + 1.0 l2\n",
    "clf.fit(X_train, yTrain_num)\n",
    "theta = clf.coef_\n"
   ]
  },
  {
   "cell_type": "code",
   "execution_count": 102,
   "id": "71a6255f",
   "metadata": {},
   "outputs": [],
   "source": [
    "# Make predictions on the validation and test data\n",
    "X_valid = [sentiment_feature2(d, max_length) for d in dataValid]\n",
    "X_test = [sentiment_feature2(d, max_length) for d in dataTest]\n",
    "\n",
    "predictions_valid = clf.predict(X_valid)\n",
    "predictions_test = clf.predict(X_test)"
   ]
  },
  {
   "cell_type": "code",
   "execution_count": 103,
   "id": "d3b333a8",
   "metadata": {},
   "outputs": [],
   "source": [
    "# Calculate Mean Squared Error (MSE) for validation and test sets\n",
    "mse_valid = mean_squared_error(yValid_num, predictions_valid)\n",
    "mse_test = mean_squared_error(yTest_num, predictions_test)"
   ]
  },
  {
   "cell_type": "code",
   "execution_count": 104,
   "id": "2aeab3f5",
   "metadata": {},
   "outputs": [
    {
     "name": "stdout",
     "output_type": "stream",
     "text": [
      "Validation MSE: 0.8354537564362328\n",
      "Test MSE: 0.8385724141020261\n"
     ]
    }
   ],
   "source": [
    "print(\"Validation MSE:\", mse_valid)\n",
    "print(\"Test MSE:\", mse_test)"
   ]
  },
  {
   "cell_type": "code",
   "execution_count": 105,
   "id": "68385166",
   "metadata": {},
   "outputs": [],
   "source": [
    "def calculate_BER(y_true, y_pred):\n",
    "    TP = sum([(a and b) for (a, b) in zip(y_true, y_pred)])\n",
    "    TN = sum([(not a and not b) for (a, b) in zip(y_true, y_pred)])\n",
    "    FP = sum([(not a and b) for (a, b) in zip(y_true, y_pred)])\n",
    "    FN = sum([(a and not b) for (a, b) in zip(y_true, y_pred)])\n",
    "\n",
    "    TPR = TP / (TP + FN) if (TP + FN) > 0 else 0\n",
    "    TNR = TN / (TN + FP) if (TN + FP) > 0 else 0\n",
    "\n",
    "    return 1 - 0.5 * (TPR + TNR)\n",
    "\n",
    "def sentiment_pipeline2(reg, dataTrain, dataValid, dataTest, yTrain, yValid, yTest, max_length):\n",
    "    mod = LogisticRegression(C=reg, class_weight='balanced')\n",
    "\n",
    "    Xtrain = [sentiment_feature2(d, max_length) for d in dataTrain]\n",
    "    Xvalid = [sentiment_feature2(d, max_length) for d in dataValid]\n",
    "    Xtest = [sentiment_feature2(d, max_length) for d in dataTest]\n",
    "\n",
    "    mod.fit(Xtrain, yTrain)\n",
    "    ypredValid = mod.predict(Xvalid)\n",
    "    ypredTest = mod.predict(Xtest)\n",
    "\n",
    "    BER_valid = calculate_BER(yValid, ypredValid)\n",
    "    BER_test = calculate_BER(yTest, ypredTest)\n",
    "\n",
    "    print(f\"C = {reg}; Validation BER = {BER_valid}, Test BER = {BER_test}\")\n",
    "\n",
    "    return mod, BER_valid, BER_test\n"
   ]
  },
  {
   "cell_type": "code",
   "execution_count": 106,
   "id": "eff40c34",
   "metadata": {},
   "outputs": [
    {
     "name": "stdout",
     "output_type": "stream",
     "text": [
      "C = 0.001; Validation BER = 0.18930218526270326, Test BER = 0.18833678996992387\n",
      "C = 0.001; Validation BER: 0.18930218526270326, Test BER: 0.18833678996992387\n",
      "C = 0.01; Validation BER = 0.18635539391310685, Test BER = 0.1868299718929114\n",
      "C = 0.01; Validation BER: 0.18635539391310685, Test BER: 0.1868299718929114\n",
      "C = 0.1; Validation BER = 0.18048819508066383, Test BER = 0.17890897355483215\n",
      "C = 0.1; Validation BER: 0.18048819508066383, Test BER: 0.17890897355483215\n",
      "C = 1; Validation BER = 0.16685437311109141, Test BER = 0.16726351067555179\n",
      "C = 1; Validation BER: 0.16685437311109141, Test BER: 0.16726351067555179\n",
      "C = 10; Validation BER = 0.16308190836846848, Test BER = 0.16374587079282155\n",
      "C = 10; Validation BER: 0.16308190836846848, Test BER: 0.16374587079282155\n",
      "C = 100; Validation BER = 0.16285714318652944, Test BER = 0.16381198595658197\n",
      "C = 100; Validation BER: 0.16285714318652944, Test BER: 0.16381198595658197\n",
      "Best C: 100, Best Validation BER: 0.16285714318652944, Best Test BER: 0.16381198595658197\n"
     ]
    }
   ],
   "source": [
    "# Tuning C\n",
    "best_C = None\n",
    "best_BER_valid = float('inf')\n",
    "best_BER_test = float('inf')\n",
    "\n",
    "for c in [0.001, 0.01, 0.1, 1, 10, 100]:\n",
    "    _, BER_valid, BER_test = sentiment_pipeline2(c, dataTrain, dataValid, dataTest, yTrain_bin, yValid_bin, yTest_bin, max_length)\n",
    "    print(f\"C = {c}; Validation BER: {BER_valid}, Test BER: {BER_test}\")\n",
    "\n",
    "    if BER_valid < best_BER_valid:\n",
    "        best_C = c\n",
    "        best_BER_valid = BER_valid\n",
    "        best_BER_test = BER_test\n",
    "\n",
    "print(f\"Best C: {best_C}, Best Validation BER: {best_BER_valid}, Best Test BER: {best_BER_test}\")\n"
   ]
  },
  {
   "cell_type": "code",
   "execution_count": 107,
   "id": "b30b39e7",
   "metadata": {},
   "outputs": [],
   "source": [
    "#Calculate accuracy\n",
    "threshold = 3\n",
    "binary_predictions_valid = [1 if p >= threshold else 0 for p in predictions_valid]\n",
    "binary_predictions_test = [1 if p >= threshold else 0 for p in predictions_test]\n",
    "\n",
    "accuracy_valid = accuracy_score(yValid_bin, binary_predictions_valid)\n",
    "accuracy_test = accuracy_score(yTest_bin, binary_predictions_test)"
   ]
  },
  {
   "cell_type": "code",
   "execution_count": 108,
   "id": "8720b6c7",
   "metadata": {},
   "outputs": [
    {
     "name": "stdout",
     "output_type": "stream",
     "text": [
      "Validation Accuracy: 0.91748\n",
      "Test Accuracy: 0.9167\n"
     ]
    }
   ],
   "source": [
    "print(\"Validation Accuracy:\", accuracy_valid)\n",
    "print(\"Test Accuracy:\", accuracy_test)"
   ]
  },
  {
   "cell_type": "code",
   "execution_count": null,
   "id": "a2a15f52",
   "metadata": {},
   "outputs": [],
   "source": []
  },
  {
   "cell_type": "code",
   "execution_count": null,
   "id": "2d2b799e",
   "metadata": {},
   "outputs": [],
   "source": [
    "#Plot for Model 3"
   ]
  },
  {
   "cell_type": "code",
   "execution_count": 109,
   "id": "391c5dec",
   "metadata": {},
   "outputs": [
    {
     "data": {
      "image/png": "[encoded data removed]",
      "text/plain": [
       "<Figure size 720x432 with 1 Axes>"
      ]
     },
     "metadata": {
      "needs_background": "light"
     },
     "output_type": "display_data"
    }
   ],
   "source": [
    "train_sizes, train_scores, valid_scores = learning_curve(clf, X_train, yTrain_num, cv=5, scoring='neg_mean_squared_error')\n",
    "\n",
    "# Calculate mean squared errors\n",
    "train_mse = -train_scores.mean(axis=1)\n",
    "valid_mse = -valid_scores.mean(axis=1)\n",
    "\n",
    "# Create learning curve plot\n",
    "plt.figure(figsize=(10, 6))\n",
    "plt.plot(train_sizes, train_mse, marker='o', label='Training MSE')\n",
    "plt.plot(train_sizes, valid_mse, marker='o', label='Validation MSE')\n",
    "plt.xlabel('Number of Training Samples')\n",
    "plt.ylabel('Mean Squared Error (MSE)')\n",
    "plt.title('Learning Curves Model 3')\n",
    "plt.legend()\n",
    "plt.grid(True)\n",
    "plt.show()"
   ]
  },
  {
   "cell_type": "code",
   "execution_count": null,
   "id": "ce4e2add-ad5d-4584-8fa3-7ee2037c7591",
   "metadata": {},
   "outputs": [],
   "source": []
  },
  {
   "cell_type": "code",
   "execution_count": null,
   "id": "e0b2b932-afba-433b-ac95-18e456ea1274",
   "metadata": {},
   "outputs": [],
   "source": []
  },
  {
   "cell_type": "code",
   "execution_count": null,
   "id": "6a0fe804-31cf-4a5b-8125-1a563bb20d2a",
   "metadata": {},
   "outputs": [],
   "source": []
  },
  {
   "cell_type": "code",
   "execution_count": null,
   "id": "692f90ef",
   "metadata": {},
   "outputs": [],
   "source": [
    "#Business Rating Predictions - using similarity analysis"
   ]
  },
  {
   "cell_type": "code",
   "execution_count": 110,
   "id": "dd4b1f41",
   "metadata": {},
   "outputs": [],
   "source": [
    "def Jaccard(s1, s2):\n",
    "    numer = len(s1.intersection(s2))\n",
    "    denom = len(s1.union(s2))\n",
    "    if denom == 0:\n",
    "        return 0\n",
    "    return numer / denom"
   ]
  },
  {
   "cell_type": "code",
   "execution_count": 111,
   "id": "7779eec0",
   "metadata": {},
   "outputs": [],
   "source": [
    "def calculate_business_similarity(data):\n",
    "    business_similarity = {}\n",
    "\n",
    "    # Create sets of users who reviewed each business\n",
    "    users_per_business = defaultdict(set)\n",
    "    for d in data:\n",
    "        business_id, user_id = d['gmap_id'], d['user_id']\n",
    "        users_per_business[business_id].add(user_id)\n",
    "\n",
    "    # Calculate Jaccard similarities between businesses\n",
    "    for business_id1 in users_per_business.keys():\n",
    "        similarities = []\n",
    "        users1 = users_per_business[business_id1]\n",
    "        for business_id2 in users_per_business:\n",
    "            if business_id1 == business_id2:\n",
    "                continue\n",
    "            users2 = users_per_business[business_id2]\n",
    "            jaccard_similarity = Jaccard(users1, users2)\n",
    "            similarities.append((jaccard_similarity, business_id2))\n",
    "        similarities.sort(reverse=True)\n",
    "        business_similarity[business_id1] = similarities[:5]\n",
    "\n",
    "    return business_similarity"
   ]
  },
  {
   "cell_type": "code",
   "execution_count": 112,
   "id": "7b0547b6",
   "metadata": {},
   "outputs": [],
   "source": [
    "def similarity_feature(d, max_length, business_similarity):\n",
    "    feat = [1]\n",
    "\n",
    "    # Calculate sentiment score for review text\n",
    "    review_text = ''.join([c for c in d['text'].lower() if c not in punctuation])\n",
    "    review_sentiment = sid.polarity_scores(review_text)['compound']\n",
    "    feat.append(review_sentiment)\n",
    "\n",
    "    # Calculate sentiment score for response text\n",
    "    if d.get('resp') and 'text' in d['resp']:\n",
    "        response_text = ''.join([c for c in d['resp']['text'].lower() if c not in punctuation])\n",
    "        response_sentiment = sid.polarity_scores(response_text)['compound']\n",
    "    else:\n",
    "        response_sentiment = 0  # Default to 0 if no response text\n",
    "    feat.append(response_sentiment) \n",
    "\n",
    "    # Additional features\n",
    "    feat.append(len(d['text']) / max_length)  # Length of 'text' normalized by max_length\n",
    "    feat.extend(one_hot_hour(t.hour))  # One-hot encoding for hour of the day\n",
    "    feat.append(1 if d['pics'] is not None else 0)  # Presence of pictures\n",
    "    \n",
    "    # Jaccard similarity feature\n",
    "    business_id = d['gmap_id']\n",
    "    jaccard_sims = [similarity for similarity, _ in business_similarity.get(business_id, [])] \n",
    "    feat.extend(jaccard_sims) \n",
    "    return feat\n"
   ]
  },
  {
   "cell_type": "code",
   "execution_count": 113,
   "id": "af19273c",
   "metadata": {},
   "outputs": [],
   "source": [
    "# Calculate business similarity\n",
    "business_similarity = calculate_business_similarity(dataset)"
   ]
  },
  {
   "cell_type": "code",
   "execution_count": 114,
   "id": "cebd9abb",
   "metadata": {},
   "outputs": [],
   "source": [
    "X = [similarity_feature(d, max_length, business_similarity) for d in dataset]\n",
    "y = [d['rating'] for d in dataset]\n",
    "\n",
    "# Regularized regression\n",
    "clf = linear_model.Ridge(1.0, fit_intercept=False)  # MSE + 1.0 l2\n",
    "clf.fit(X, y)\n",
    "theta = clf.coef_\n",
    "predictions = clf.predict(X)"
   ]
  },
  {
   "cell_type": "code",
   "execution_count": 115,
   "id": "0a461a4d",
   "metadata": {},
   "outputs": [
    {
     "data": {
      "text/plain": [
       "0.8384688610926418"
      ]
     },
     "execution_count": 115,
     "metadata": {},
     "output_type": "execute_result"
    }
   ],
   "source": [
    "mse = sum((y - predictions) ** 2) / len(y)\n",
    "mse"
   ]
  },
  {
   "cell_type": "code",
   "execution_count": 116,
   "id": "b3f26224",
   "metadata": {},
   "outputs": [],
   "source": [
    "#Validating Similarity Model"
   ]
  },
  {
   "cell_type": "code",
   "execution_count": 126,
   "id": "2ad92f55-9265-494b-8460-7ec646dc6e3d",
   "metadata": {},
   "outputs": [],
   "source": [
    "#Subsetting dataset into Training and Testing \n",
    "dataTrain = data[:50000]\n",
    "dataValid = data[50000:100000]\n",
    "dataTest = data[100000:150000]"
   ]
  },
  {
   "cell_type": "code",
   "execution_count": 127,
   "id": "f08abee3-fbcc-44f9-92db-bff626e6abb8",
   "metadata": {},
   "outputs": [],
   "source": [
    "#Predicting positive ratings (3 or greater)\n",
    "yTrain_bin = [d['rating'] >= 3 for d in dataTrain]\n",
    "yValid_bin = [d['rating'] >= 3 for d in dataValid]\n",
    "yTest_bin = [d['rating'] >= 3 for d in dataTest]"
   ]
  },
  {
   "cell_type": "code",
   "execution_count": 128,
   "id": "7664d06f-996b-473b-b25d-f1d4d1b5420b",
   "metadata": {},
   "outputs": [],
   "source": [
    "#Predicting numerical ratings\n",
    "yTrain_num = [d['rating'] for d in dataTrain]\n",
    "yValid_num = [d['rating'] for d in dataValid]\n",
    "yTest_num = [d['rating'] for d in dataTest]"
   ]
  },
  {
   "cell_type": "code",
   "execution_count": 133,
   "id": "c9ed9251-84c7-4bdf-8757-eaa68b92b8a9",
   "metadata": {},
   "outputs": [],
   "source": [
    "# Calculate business similarity\n",
    "business_similarity = calculate_business_similarity(dataTrain)"
   ]
  },
  {
   "cell_type": "code",
   "execution_count": 134,
   "id": "e960215c-0656-4b13-b655-67c8031275e2",
   "metadata": {},
   "outputs": [],
   "source": [
    "X_train = [similarity_feature(d, max_length, business_similarity) for d in dataTrain]\n",
    "y_train = [d['rating'] for d in dataTrain]"
   ]
  },
  {
   "cell_type": "code",
   "execution_count": 137,
   "id": "7ef19fce-d1bc-4bc7-9750-d08640b46b7f",
   "metadata": {},
   "outputs": [],
   "source": [
    "# Regularized regression\n",
    "clf = Ridge(alpha=1.0, fit_intercept=False)  # Ridge regression with alpha=1.0\n",
    "clf.fit(X_train, yTrain_num)\n",
    "theta = clf.coef_"
   ]
  },
  {
   "cell_type": "code",
   "execution_count": 147,
   "id": "60d69415-5117-4204-a19c-c2c33eb81586",
   "metadata": {
    "tags": []
   },
   "outputs": [],
   "source": [
    "business_similarity_test = calculate_business_similarity(dataTest)"
   ]
  },
  {
   "cell_type": "code",
   "execution_count": 148,
   "id": "c0167b5c-cc2e-42f5-b553-6a82bdbd25e6",
   "metadata": {},
   "outputs": [],
   "source": [
    "business_similarity_valid = calculate_business_similarity(dataValid)"
   ]
  },
  {
   "cell_type": "code",
   "execution_count": 149,
   "id": "96f93feb-6327-4e99-aa7c-980d808e3b4d",
   "metadata": {
    "tags": []
   },
   "outputs": [],
   "source": [
    "X_valid = [similarity_feature(d, max_length, business_similarity_valid) for d in dataValid]\n",
    "X_test = [similarity_feature(d, max_length, business_similarity_test) for d in dataTest]"
   ]
  },
  {
   "cell_type": "code",
   "execution_count": 150,
   "id": "c28f8dc2-8ba8-4326-abc3-33c133ae4e68",
   "metadata": {},
   "outputs": [
    {
     "name": "stdout",
     "output_type": "stream",
     "text": [
      "Validation MSE: 0.8352742378434485\n",
      "Test MSE: 0.8383827011043296\n"
     ]
    }
   ],
   "source": [
    "# Make predictions on validation and test data\n",
    "predictions_valid = clf.predict(X_valid)\n",
    "predictions_test = clf.predict(X_test)\n",
    "\n",
    "# Calculate Mean Squared Error (MSE) for validation and test sets\n",
    "mse_valid = mean_squared_error(yValid_num, predictions_valid)\n",
    "mse_test = mean_squared_error(yTest_num, predictions_test)\n",
    "\n",
    "print(\"Validation MSE:\", mse_valid)\n",
    "print(\"Test MSE:\", mse_test)"
   ]
  },
  {
   "cell_type": "code",
   "execution_count": 151,
   "id": "2a273065-b31d-4991-9f63-6dbfa869d37f",
   "metadata": {},
   "outputs": [
    {
     "name": "stdout",
     "output_type": "stream",
     "text": [
      "Validation Accuracy: 0.91738\n",
      "Test Accuracy: 0.91664\n"
     ]
    }
   ],
   "source": [
    "# Calculate accuracy using a threshold\n",
    "threshold = 3\n",
    "binary_predictions_valid = [1 if p >= threshold else 0 for p in predictions_valid]\n",
    "binary_predictions_test = [1 if p >= threshold else 0 for p in predictions_test]\n",
    "\n",
    "accuracy_valid = accuracy_score(yValid_bin, binary_predictions_valid)\n",
    "accuracy_test = accuracy_score(yTest_bin, binary_predictions_test)\n",
    "\n",
    "print(\"Validation Accuracy:\", accuracy_valid)\n",
    "print(\"Test Accuracy:\", accuracy_test)"
   ]
  },
  {
   "cell_type": "code",
   "execution_count": 162,
   "id": "4d49d45e-88e0-401f-9614-d477ef37f575",
   "metadata": {},
   "outputs": [],
   "source": [
    "def similarity_pipeline(reg, dataTrain, dataValid, dataTest, yTrain, yValid, yTest, max_length, business_similarity):\n",
    "    mod = LogisticRegression(C=reg, class_weight='balanced')\n",
    "\n",
    "    Xtrain = [similarity_feature(d, max_length, business_similarity) for d in dataTrain]\n",
    "    Xvalid = [similarity_feature(d, max_length, business_similarity_valid) for d in dataValid]\n",
    "    Xtest = [similarity_feature(d, max_length, business_similarity_test) for d in dataTest]\n",
    "\n",
    "    mod.fit(Xtrain, yTrain)\n",
    "    ypredValid = mod.predict(Xvalid)\n",
    "    ypredTest = mod.predict(Xtest)\n",
    "\n",
    "    # Calculate Balanced Error Rate (BER) using balanced_accuracy_score\n",
    "    BER_valid = 1 - balanced_accuracy_score(yValid, ypredValid)\n",
    "    BER_test = 1 - balanced_accuracy_score(yTest, ypredTest)\n",
    "\n",
    "    print(f\"C = {reg}; Validation BER = {BER_valid}, Test BER = {BER_test}\")\n",
    "\n",
    "    return mod, BER_valid, BER_test\n"
   ]
  },
  {
   "cell_type": "code",
   "execution_count": 163,
   "id": "541b1567-91ab-40fe-b268-9600c8a6d9a6",
   "metadata": {},
   "outputs": [
    {
     "ename": "ValueError",
     "evalue": "setting an array element with a sequence. The requested array has an inhomogeneous shape after 1 dimensions. The detected shape was (50000,) + inhomogeneous part.",
     "output_type": "error",
     "traceback": [
      "\u001b[0;31m---------------------------------------------------------------------------\u001b[0m",
      "\u001b[0;31mValueError\u001b[0m                                Traceback (most recent call last)",
      "\u001b[0;32m/var/folders/bt/jyrwb20n5612bbq0kb5vfymr0000gn/T/ipykernel_11206/3222220631.py\u001b[0m in \u001b[0;36m<module>\u001b[0;34m\u001b[0m\n\u001b[1;32m      8\u001b[0m \u001b[0;34m\u001b[0m\u001b[0m\n\u001b[1;32m      9\u001b[0m \u001b[0;32mfor\u001b[0m \u001b[0mc\u001b[0m \u001b[0;32min\u001b[0m \u001b[0mcandidate_C_values\u001b[0m\u001b[0;34m:\u001b[0m\u001b[0;34m\u001b[0m\u001b[0;34m\u001b[0m\u001b[0m\n\u001b[0;32m---> 10\u001b[0;31m     \u001b[0m_\u001b[0m\u001b[0;34m,\u001b[0m \u001b[0mBER_valid\u001b[0m\u001b[0;34m,\u001b[0m \u001b[0mBER_test\u001b[0m \u001b[0;34m=\u001b[0m \u001b[0msimilarity_pipeline\u001b[0m\u001b[0;34m(\u001b[0m\u001b[0mc\u001b[0m\u001b[0;34m,\u001b[0m \u001b[0mdataTrain\u001b[0m\u001b[0;34m,\u001b[0m \u001b[0mdataValid\u001b[0m\u001b[0;34m,\u001b[0m \u001b[0mdataTest\u001b[0m\u001b[0;34m,\u001b[0m \u001b[0myTrain_bin\u001b[0m\u001b[0;34m,\u001b[0m \u001b[0myValid_bin\u001b[0m\u001b[0;34m,\u001b[0m \u001b[0myTest_bin\u001b[0m\u001b[0;34m,\u001b[0m \u001b[0mmax_length\u001b[0m\u001b[0;34m,\u001b[0m \u001b[0mbusiness_similarity\u001b[0m\u001b[0;34m)\u001b[0m\u001b[0;34m\u001b[0m\u001b[0;34m\u001b[0m\u001b[0m\n\u001b[0m\u001b[1;32m     11\u001b[0m     \u001b[0mprint\u001b[0m\u001b[0;34m(\u001b[0m\u001b[0;34mf\"C = {c}; Validation BER: {BER_valid}, Test BER: {BER_test}\"\u001b[0m\u001b[0;34m)\u001b[0m\u001b[0;34m\u001b[0m\u001b[0;34m\u001b[0m\u001b[0m\n\u001b[1;32m     12\u001b[0m \u001b[0;34m\u001b[0m\u001b[0m\n",
      "\u001b[0;32m/var/folders/bt/jyrwb20n5612bbq0kb5vfymr0000gn/T/ipykernel_11206/1890718142.py\u001b[0m in \u001b[0;36msimilarity_pipeline\u001b[0;34m(reg, dataTrain, dataValid, dataTest, yTrain, yValid, yTest, max_length, business_similarity)\u001b[0m\n\u001b[1;32m      6\u001b[0m     \u001b[0mXtest\u001b[0m \u001b[0;34m=\u001b[0m \u001b[0;34m[\u001b[0m\u001b[0msimilarity_feature\u001b[0m\u001b[0;34m(\u001b[0m\u001b[0md\u001b[0m\u001b[0;34m,\u001b[0m \u001b[0mmax_length\u001b[0m\u001b[0;34m,\u001b[0m \u001b[0mbusiness_similarity_test\u001b[0m\u001b[0;34m)\u001b[0m \u001b[0;32mfor\u001b[0m \u001b[0md\u001b[0m \u001b[0;32min\u001b[0m \u001b[0mdataTest\u001b[0m\u001b[0;34m]\u001b[0m\u001b[0;34m\u001b[0m\u001b[0;34m\u001b[0m\u001b[0m\n\u001b[1;32m      7\u001b[0m \u001b[0;34m\u001b[0m\u001b[0m\n\u001b[0;32m----> 8\u001b[0;31m     \u001b[0mmod\u001b[0m\u001b[0;34m.\u001b[0m\u001b[0mfit\u001b[0m\u001b[0;34m(\u001b[0m\u001b[0mXtrain\u001b[0m\u001b[0;34m,\u001b[0m \u001b[0myTrain\u001b[0m\u001b[0;34m)\u001b[0m\u001b[0;34m\u001b[0m\u001b[0;34m\u001b[0m\u001b[0m\n\u001b[0m\u001b[1;32m      9\u001b[0m     \u001b[0mypredValid\u001b[0m \u001b[0;34m=\u001b[0m \u001b[0mmod\u001b[0m\u001b[0;34m.\u001b[0m\u001b[0mpredict\u001b[0m\u001b[0;34m(\u001b[0m\u001b[0mXvalid\u001b[0m\u001b[0;34m)\u001b[0m\u001b[0;34m\u001b[0m\u001b[0;34m\u001b[0m\u001b[0m\n\u001b[1;32m     10\u001b[0m     \u001b[0mypredTest\u001b[0m \u001b[0;34m=\u001b[0m \u001b[0mmod\u001b[0m\u001b[0;34m.\u001b[0m\u001b[0mpredict\u001b[0m\u001b[0;34m(\u001b[0m\u001b[0mXtest\u001b[0m\u001b[0;34m)\u001b[0m\u001b[0;34m\u001b[0m\u001b[0;34m\u001b[0m\u001b[0m\n",
      "\u001b[0;32m~/opt/anaconda3/lib/python3.7/site-packages/sklearn/linear_model/_logistic.py\u001b[0m in \u001b[0;36mfit\u001b[0;34m(self, X, y, sample_weight)\u001b[0m\n\u001b[1;32m   1512\u001b[0m             \u001b[0mdtype\u001b[0m\u001b[0;34m=\u001b[0m\u001b[0m_dtype\u001b[0m\u001b[0;34m,\u001b[0m\u001b[0;34m\u001b[0m\u001b[0;34m\u001b[0m\u001b[0m\n\u001b[1;32m   1513\u001b[0m             \u001b[0morder\u001b[0m\u001b[0;34m=\u001b[0m\u001b[0;34m\"C\"\u001b[0m\u001b[0;34m,\u001b[0m\u001b[0;34m\u001b[0m\u001b[0;34m\u001b[0m\u001b[0m\n\u001b[0;32m-> 1514\u001b[0;31m             \u001b[0maccept_large_sparse\u001b[0m\u001b[0;34m=\u001b[0m\u001b[0msolver\u001b[0m \u001b[0;32mnot\u001b[0m \u001b[0;32min\u001b[0m \u001b[0;34m[\u001b[0m\u001b[0;34m\"liblinear\"\u001b[0m\u001b[0;34m,\u001b[0m \u001b[0;34m\"sag\"\u001b[0m\u001b[0;34m,\u001b[0m \u001b[0;34m\"saga\"\u001b[0m\u001b[0;34m]\u001b[0m\u001b[0;34m,\u001b[0m\u001b[0;34m\u001b[0m\u001b[0;34m\u001b[0m\u001b[0m\n\u001b[0m\u001b[1;32m   1515\u001b[0m         )\n\u001b[1;32m   1516\u001b[0m         \u001b[0mcheck_classification_targets\u001b[0m\u001b[0;34m(\u001b[0m\u001b[0my\u001b[0m\u001b[0;34m)\u001b[0m\u001b[0;34m\u001b[0m\u001b[0;34m\u001b[0m\u001b[0m\n",
      "\u001b[0;32m~/opt/anaconda3/lib/python3.7/site-packages/sklearn/base.py\u001b[0m in \u001b[0;36m_validate_data\u001b[0;34m(self, X, y, reset, validate_separately, **check_params)\u001b[0m\n\u001b[1;32m    574\u001b[0m                 \u001b[0my\u001b[0m \u001b[0;34m=\u001b[0m \u001b[0mcheck_array\u001b[0m\u001b[0;34m(\u001b[0m\u001b[0my\u001b[0m\u001b[0;34m,\u001b[0m \u001b[0;34m**\u001b[0m\u001b[0mcheck_y_params\u001b[0m\u001b[0;34m)\u001b[0m\u001b[0;34m\u001b[0m\u001b[0;34m\u001b[0m\u001b[0m\n\u001b[1;32m    575\u001b[0m             \u001b[0;32melse\u001b[0m\u001b[0;34m:\u001b[0m\u001b[0;34m\u001b[0m\u001b[0;34m\u001b[0m\u001b[0m\n\u001b[0;32m--> 576\u001b[0;31m                 \u001b[0mX\u001b[0m\u001b[0;34m,\u001b[0m \u001b[0my\u001b[0m \u001b[0;34m=\u001b[0m \u001b[0mcheck_X_y\u001b[0m\u001b[0;34m(\u001b[0m\u001b[0mX\u001b[0m\u001b[0;34m,\u001b[0m \u001b[0my\u001b[0m\u001b[0;34m,\u001b[0m \u001b[0;34m**\u001b[0m\u001b[0mcheck_params\u001b[0m\u001b[0;34m)\u001b[0m\u001b[0;34m\u001b[0m\u001b[0;34m\u001b[0m\u001b[0m\n\u001b[0m\u001b[1;32m    577\u001b[0m             \u001b[0mout\u001b[0m \u001b[0;34m=\u001b[0m \u001b[0mX\u001b[0m\u001b[0;34m,\u001b[0m \u001b[0my\u001b[0m\u001b[0;34m\u001b[0m\u001b[0;34m\u001b[0m\u001b[0m\n\u001b[1;32m    578\u001b[0m \u001b[0;34m\u001b[0m\u001b[0m\n",
      "\u001b[0;32m~/opt/anaconda3/lib/python3.7/site-packages/sklearn/utils/validation.py\u001b[0m in \u001b[0;36mcheck_X_y\u001b[0;34m(X, y, accept_sparse, accept_large_sparse, dtype, order, copy, force_all_finite, ensure_2d, allow_nd, multi_output, ensure_min_samples, ensure_min_features, y_numeric, estimator)\u001b[0m\n\u001b[1;32m    966\u001b[0m         \u001b[0mensure_min_samples\u001b[0m\u001b[0;34m=\u001b[0m\u001b[0mensure_min_samples\u001b[0m\u001b[0;34m,\u001b[0m\u001b[0;34m\u001b[0m\u001b[0;34m\u001b[0m\u001b[0m\n\u001b[1;32m    967\u001b[0m         \u001b[0mensure_min_features\u001b[0m\u001b[0;34m=\u001b[0m\u001b[0mensure_min_features\u001b[0m\u001b[0;34m,\u001b[0m\u001b[0;34m\u001b[0m\u001b[0;34m\u001b[0m\u001b[0m\n\u001b[0;32m--> 968\u001b[0;31m         \u001b[0mestimator\u001b[0m\u001b[0;34m=\u001b[0m\u001b[0mestimator\u001b[0m\u001b[0;34m,\u001b[0m\u001b[0;34m\u001b[0m\u001b[0;34m\u001b[0m\u001b[0m\n\u001b[0m\u001b[1;32m    969\u001b[0m     )\n\u001b[1;32m    970\u001b[0m \u001b[0;34m\u001b[0m\u001b[0m\n",
      "\u001b[0;32m~/opt/anaconda3/lib/python3.7/site-packages/sklearn/utils/validation.py\u001b[0m in \u001b[0;36mcheck_array\u001b[0;34m(array, accept_sparse, accept_large_sparse, dtype, order, copy, force_all_finite, ensure_2d, allow_nd, ensure_min_samples, ensure_min_features, estimator)\u001b[0m\n\u001b[1;32m    736\u001b[0m                     \u001b[0marray\u001b[0m \u001b[0;34m=\u001b[0m \u001b[0marray\u001b[0m\u001b[0;34m.\u001b[0m\u001b[0mastype\u001b[0m\u001b[0;34m(\u001b[0m\u001b[0mdtype\u001b[0m\u001b[0;34m,\u001b[0m \u001b[0mcasting\u001b[0m\u001b[0;34m=\u001b[0m\u001b[0;34m\"unsafe\"\u001b[0m\u001b[0;34m,\u001b[0m \u001b[0mcopy\u001b[0m\u001b[0;34m=\u001b[0m\u001b[0;32mFalse\u001b[0m\u001b[0;34m)\u001b[0m\u001b[0;34m\u001b[0m\u001b[0;34m\u001b[0m\u001b[0m\n\u001b[1;32m    737\u001b[0m                 \u001b[0;32melse\u001b[0m\u001b[0;34m:\u001b[0m\u001b[0;34m\u001b[0m\u001b[0;34m\u001b[0m\u001b[0m\n\u001b[0;32m--> 738\u001b[0;31m                     \u001b[0marray\u001b[0m \u001b[0;34m=\u001b[0m \u001b[0mnp\u001b[0m\u001b[0;34m.\u001b[0m\u001b[0masarray\u001b[0m\u001b[0;34m(\u001b[0m\u001b[0marray\u001b[0m\u001b[0;34m,\u001b[0m \u001b[0morder\u001b[0m\u001b[0;34m=\u001b[0m\u001b[0morder\u001b[0m\u001b[0;34m,\u001b[0m \u001b[0mdtype\u001b[0m\u001b[0;34m=\u001b[0m\u001b[0mdtype\u001b[0m\u001b[0;34m)\u001b[0m\u001b[0;34m\u001b[0m\u001b[0;34m\u001b[0m\u001b[0m\n\u001b[0m\u001b[1;32m    739\u001b[0m             \u001b[0;32mexcept\u001b[0m \u001b[0mComplexWarning\u001b[0m \u001b[0;32mas\u001b[0m \u001b[0mcomplex_warning\u001b[0m\u001b[0;34m:\u001b[0m\u001b[0;34m\u001b[0m\u001b[0;34m\u001b[0m\u001b[0m\n\u001b[1;32m    740\u001b[0m                 raise ValueError(\n",
      "\u001b[0;31mValueError\u001b[0m: setting an array element with a sequence. The requested array has an inhomogeneous shape after 1 dimensions. The detected shape was (50000,) + inhomogeneous part."
     ]
    }
   ],
   "source": [
    "# Tuning C\n",
    "best_C = None\n",
    "best_BER_valid = float('inf')\n",
    "best_BER_test = float('inf')\n",
    "\n",
    "# Define a list of candidate C values to try\n",
    "candidate_C_values = [0.001, 0.01, 0.1, 1, 10, 100]\n",
    "\n",
    "for c in candidate_C_values:\n",
    "    _, BER_valid, BER_test = similarity_pipeline(c, dataTrain, dataValid, dataTest, yTrain_bin, yValid_bin, yTest_bin, max_length, business_similarity)\n",
    "    print(f\"C = {c}; Validation BER: {BER_valid}, Test BER: {BER_test}\")\n",
    "\n",
    "    if BER_valid < best_BER_valid:\n",
    "        best_C = c\n",
    "        best_BER_valid = BER_valid\n",
    "        best_BER_test = BER_test\n",
    "\n",
    "print(f\"Best C: {best_C}, Best Validation BER: {best_BER_valid}, Best Test BER: {best_BER_test}\")\n"
   ]
  },
  {
   "cell_type": "code",
   "execution_count": null,
   "id": "1155b0c9-fb20-419a-9222-c522b0b82720",
   "metadata": {},
   "outputs": [],
   "source": []
  },
  {
   "cell_type": "code",
   "execution_count": null,
   "id": "f42e8771-772d-4306-b045-56174b261ce0",
   "metadata": {},
   "outputs": [],
   "source": [
    "#Plot for model 4"
   ]
  },
  {
   "cell_type": "code",
   "execution_count": 164,
   "id": "eea68405-11c1-4275-98c0-9f8cc8ea486c",
   "metadata": {},
   "outputs": [
    {
     "data": {
      "image/png": "[encoded data removed]",
      "text/plain": [
       "<Figure size 720x432 with 1 Axes>"
      ]
     },
     "metadata": {
      "needs_background": "light"
     },
     "output_type": "display_data"
    }
   ],
   "source": [
    "train_sizes, train_scores, valid_scores = learning_curve(clf, X_train, yTrain_num, cv=5, scoring='neg_mean_squared_error')\n",
    "\n",
    "# Calculate mean squared errors\n",
    "train_mse = -train_scores.mean(axis=1)\n",
    "valid_mse = -valid_scores.mean(axis=1)\n",
    "\n",
    "# Create learning curve plot\n",
    "plt.figure(figsize=(10, 6))\n",
    "plt.plot(train_sizes, train_mse, marker='o', label='Training MSE')\n",
    "plt.plot(train_sizes, valid_mse, marker='o', label='Validation MSE')\n",
    "plt.xlabel('Number of Training Samples')\n",
    "plt.ylabel('Mean Squared Error (MSE)')\n",
    "plt.title('Learning Curves')\n",
    "plt.legend()\n",
    "plt.grid(True)\n",
    "plt.show()"
   ]
  },
  {
   "cell_type": "code",
   "execution_count": null,
   "id": "473625f0-0612-4d6f-a54b-75f0990edc3a",
   "metadata": {},
   "outputs": [],
   "source": []
  }
 ],
 "metadata": {
  "kernelspec": {
   "display_name": "Python 3 (ipykernel)",
   "language": "python",
   "name": "python3"
  },
  "language_info": {
   "codemirror_mode": {
    "name": "ipython",
    "version": 3
   },
   "file_extension": ".py",
   "mimetype": "text/x-python",
   "name": "python",
   "nbconvert_exporter": "python",
   "pygments_lexer": "ipython3",
   "version": "3.7.7"
  }
 },
 "nbformat": 4,
 "nbformat_minor": 5
}
