{
 "cells": [
  {
   "cell_type": "markdown",
   "metadata": {},
   "source": [
    "Miguel is a brand manager facing a diffcult decision. The top two candidates for his brand's\n",
    "next major product initiative all seem quite likely to be successful, but due to budget con-\n",
    "straints he must select only one. He has asked you to provide an analysis of the different\n",
    "initiatives to inform his selection decision. The following is information related to each of\n",
    "the initiatives:\n",
    "\n",
    "\n",
    "Initiative 1\n",
    "\n",
    "• The development cost is uniformly distributed between $2 and $4 million.\n",
    "\n",
    "• There are 20 potential clients for the product, and each one will purchase it with\n",
    "probability 0.70 at a price of $500,000 which is fixed.\n",
    "\n",
    "\n",
    "\n",
    "Initiative 2\n",
    "\n",
    "• The development cost depends on the state of its development team. With probability\n",
    "0.80, the assigned development team is strong and thus the cost is normally distributed\n",
    "with mean $1 million and standard deviation $100,000. With probability 0.20, the\n",
    "assigned development team is weak and thus the cost is normally distributed with\n",
    "mean $2 million and standard deviation $500,000.\n",
    "\n",
    "• The firm has much more discretion on pricing. There are 220 potential clients for the\n",
    "product, and each one will purchase it with probability pi(p) which depends on the\n",
    "price p. This probability function is given by pi(p) = 1- p/$100000 . Here the highest price\n",
    "that can be charged is $100,000, and it will lead to no customers purchasing it.\n",
    "\n",
    "(i) For Initiative 1, what is the expected profit?\n",
    "\n",
    "(ii) For Initiative 1, what is the likelihood that profits will exceed $5 million?\n",
    "\n",
    "(iii) For Initiative 2, create a visualization of the cost distribution (e.g., a histogram).\n",
    "\n",
    "\n",
    "(iv) For Initiative 2, what is the likelihood that its cost exceeds $2.5 million?.\n",
    "10\n",
    "(v) For Initiative 2, if the price is set to $30,000, what is the expected profit?\n",
    "\n",
    "\n",
    "(vi) For Initiative 2, what price maximizes expected profits?\n",
    "\n",
    "\n",
    "(vii) For Initiative 2, what are the expected profits associated with the optimal price found\n",
    "in part (vi)?\n",
    "\n",
    "\n",
    "(viii) For Initiative 2, what is the likelihood that profits will exceed $5 million under the\n",
    "optimal price found in part (vi)? \n",
    "\n",
    "\n",
    "(ix) Suppose Miguel wants at least a 15% chance of profits exceeding $5 million. Given your\n",
    "analysis of the two initiatives, discuss the trade-off he faces. In particular, how much profit\n",
    "must he be willing to forgo in order to meet this desired objective?"
   ]
  },
  {
   "cell_type": "code",
   "execution_count": 6,
   "metadata": {},
   "outputs": [],
   "source": [
    "import numpy as np\n"
   ]
  },
  {
   "cell_type": "code",
   "execution_count": 2,
   "metadata": {},
   "outputs": [],
   "source": [
    "#initiative 1\n",
    "#simulate development cost\n",
    "N=10000\n",
    "DC1=np.random.uniform(2000000, 4000000, N)\n",
    "price1= 500000\n",
    "client_d1=np.random.binomial(20, .70, N)"
   ]
  },
  {
   "cell_type": "code",
   "execution_count": 10,
   "metadata": {},
   "outputs": [],
   "source": [
    "#initiative 2\n",
    "#simulate development cost\n",
    "M=100000\n",
    "prob= [0.8,0.2]\n",
    "DC_strong= np.random.normal(1000000, 100000, (N,100))\n",
    "DC_weak=np.random.normal(2000000, 500000, (N,100))\n",
    "is_strong = np.random.choice([True, False], size=(N,100), replace=True, p=[0.80, 0.20])\n",
    "\n",
    "\n",
    "price2=np.tile(np.arange(1,M+1,1000),(N,1))"
   ]
  },
  {
   "cell_type": "code",
   "execution_count": 11,
   "metadata": {},
   "outputs": [],
   "source": [
    "DC2=DC_weak.copy()\n",
    "DC2[is_strong==True]=DC_strong[is_strong==True]"
   ]
  },
  {
   "cell_type": "code",
   "execution_count": 12,
   "metadata": {},
   "outputs": [
    {
     "data": {
      "text/plain": [
       "array([[1099935.95300752,  835418.0657831 ,  977017.16833929, ...,\n",
       "        1003849.95126591, 1029741.49766446, 1429155.45820303],\n",
       "       [1000885.72505638,  979555.81954075,  934882.04688777, ...,\n",
       "        2217405.41883157,  802815.60392709, 1004845.81353243],\n",
       "       [1828764.10187717, 1078740.08465126,  926296.69056673, ...,\n",
       "         783078.88912772, 1252187.06019891, 2198557.35258304],\n",
       "       ...,\n",
       "       [1169898.52794769, 1123397.59788426, 1140626.93203916, ...,\n",
       "         933178.37490549, 1032786.47837557, 1107830.77625248],\n",
       "       [2018121.51038942,  946565.28993336,  906584.97212819, ...,\n",
       "        1061754.82827467, 2654957.87805635, 1019625.13861902],\n",
       "       [ 972850.86959845,  916250.75013856, 1066852.812159  , ...,\n",
       "        1022038.33273064, 1037216.92620585, 1566891.34112396]])"
      ]
     },
     "execution_count": 12,
     "metadata": {},
     "output_type": "execute_result"
    }
   ],
   "source": [
    "DC2"
   ]
  },
  {
   "cell_type": "code",
   "execution_count": 13,
   "metadata": {},
   "outputs": [],
   "source": [
    "p_client=1-price2/100000\n",
    "client_d2=np.random.binomial(220, p_client,(N,100))"
   ]
  },
  {
   "cell_type": "code",
   "execution_count": 13,
   "metadata": {},
   "outputs": [
    {
     "data": {
      "text/plain": [
       "array([[219, 220, 220, ..., 219, 218, 217],\n",
       "       [220, 220, 220, ..., 216, 218, 220],\n",
       "       [220, 220, 220, ..., 218, 215, 215],\n",
       "       ...,\n",
       "       [220, 220, 220, ..., 218, 218, 217],\n",
       "       [220, 220, 220, ..., 220, 216, 217],\n",
       "       [220, 220, 220, ..., 218, 218, 219]])"
      ]
     },
     "execution_count": 13,
     "metadata": {},
     "output_type": "execute_result"
    }
   ],
   "source": [
    "client_d2"
   ]
  },
  {
   "cell_type": "code",
   "execution_count": 14,
   "metadata": {},
   "outputs": [],
   "source": [
    "#profits\n",
    "#initiative 1\n",
    "profit_1=price1*client_d1-DC1"
   ]
  },
  {
   "cell_type": "code",
   "execution_count": 30,
   "metadata": {},
   "outputs": [
    {
     "data": {
      "text/plain": [
       "4005560.6129431427"
      ]
     },
     "execution_count": 30,
     "metadata": {},
     "output_type": "execute_result"
    }
   ],
   "source": [
    "np.mean(profit_1)"
   ]
  },
  {
   "cell_type": "code",
   "execution_count": 31,
   "metadata": {},
   "outputs": [
    {
     "data": {
      "text/plain": [
       "0.2025"
      ]
     },
     "execution_count": 31,
     "metadata": {},
     "output_type": "execute_result"
    }
   ],
   "source": [
    "np.mean(profit_1>5000000)"
   ]
  },
  {
   "cell_type": "code",
   "execution_count": 44,
   "metadata": {},
   "outputs": [
    {
     "data": {
      "image/png": "[encoded data removed]",
      "text/plain": [
       "<Figure size 1000x600 with 1 Axes>"
      ]
     },
     "metadata": {},
     "output_type": "display_data"
    }
   ],
   "source": [
    "import matplotlib.pyplot as plt\n",
    "plt.figure(figsize=(10, 6))\n",
    "plt.hist(DC2[M], bins=50, alpha=0.7)\n",
    "plt.title(\"Histogram of Weighted Development Costs\")\n",
    "plt.xlabel(\"Cost ($)\")\n",
    "plt.ylabel(\"Frequency\")\n",
    "plt.grid(True)\n",
    "plt.show()"
   ]
  },
  {
   "cell_type": "code",
   "execution_count": 39,
   "metadata": {},
   "outputs": [
    {
     "data": {
      "text/plain": [
       "0.0316577"
      ]
     },
     "execution_count": 39,
     "metadata": {},
     "output_type": "execute_result"
    }
   ],
   "source": [
    "np.mean(DC2>2500000)"
   ]
  },
  {
   "cell_type": "code",
   "execution_count": null,
   "metadata": {},
   "outputs": [],
   "source": [
    "price2_new=30000\n",
    "p_client_new=1-price2_new/100000\n",
    "client_d2_new=np.random.binomial(220, p_client_new, (N,M))"
   ]
  },
  {
   "cell_type": "code",
   "execution_count": 50,
   "metadata": {},
   "outputs": [
    {
     "data": {
      "text/plain": [
       "3420255.9686904103"
      ]
     },
     "execution_count": 50,
     "metadata": {},
     "output_type": "execute_result"
    }
   ],
   "source": [
    "profit_new=client_d2_new*price2_new-DC2\n",
    "np.mean(profit_new)"
   ]
  },
  {
   "cell_type": "code",
   "execution_count": 15,
   "metadata": {},
   "outputs": [],
   "source": [
    "profit=client_d2*price2-DC2"
   ]
  },
  {
   "cell_type": "code",
   "execution_count": 20,
   "metadata": {},
   "outputs": [
    {
     "name": "stdout",
     "output_type": "stream",
     "text": [
      "48001\n",
      "4298333.725520409\n"
     ]
    },
    {
     "data": {
      "image/png": "[encoded data removed]",
      "text/plain": [
       "<Figure size 640x480 with 1 Axes>"
      ]
     },
     "metadata": {},
     "output_type": "display_data"
    }
   ],
   "source": [
    "import matplotlib.pyplot as plt\n",
    "exp_prof = np.mean(profit, axis=0)\n",
    "plt.plot(np.arange(1,M+1,1000), exp_prof)\n",
    "\n",
    "idx = np.argmax(exp_prof)\n",
    "print(np.arange(1, M+1, 1000)[idx])\n",
    "print(exp_prof[idx])"
   ]
  }
 ],
 "metadata": {
  "kernelspec": {
   "display_name": "Python 3",
   "language": "python",
   "name": "python3"
  },
  "language_info": {
   "codemirror_mode": {
    "name": "ipython",
    "version": 3
   },
   "file_extension": ".py",
   "mimetype": "text/x-python",
   "name": "python",
   "nbconvert_exporter": "python",
   "pygments_lexer": "ipython3",
   "version": "3.11.6"
  }
 },
 "nbformat": 4,
 "nbformat_minor": 2
}
