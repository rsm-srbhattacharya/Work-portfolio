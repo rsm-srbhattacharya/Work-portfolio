{
 "cells": [
  {
   "cell_type": "markdown",
   "id": "dedec6a4-2eea-4e00-9997-df494f8471b5",
   "metadata": {
    "tags": []
   },
   "source": [
    "#  XGBoost Inference Notebook\n",
    " \n",
    "## Classification on Amazon SageMaker\n",
    "\n",
    "Perform a classification task on the given dataset.<br>\n",
    "Using the features given, you will train a XGBoost decision tree model to predict a given person's salary (the `WAGP` column) - which will be categorized into multiple bins.<br>\n",
    "\n",
    "--- \n",
    "\n",
    "#### Tasks: \n",
    "\n",
    "- Perform Exploratory Data Analysis on the given dataset\n",
    "- Save preprocessed datasets to Amazon S3\n",
    "- Use the Amazon Sagemaker platform to train an XGBoost model\n",
    "- Evaluate the model on the test set using real-time inference\n",
    "- Perform hyperparameter tuning on the XGBoost model\n"
   ]
  },
  {
   "cell_type": "markdown",
   "id": "552ab4b3-4b12-48ce-82cb-c32256004155",
   "metadata": {},
   "source": [
    "### 11. Get Amazon IAM execution role & instance region"
   ]
  },
  {
   "cell_type": "markdown",
   "id": "7d413f9b-9f64-4dc9-b7fe-0d41829ec4b7",
   "metadata": {},
   "source": [
    " Make sure to create an S3 bucket or re-use the ones from prior exercises"
   ]
  },
  {
   "cell_type": "code",
   "execution_count": 42,
   "id": "9b46ffd6-929c-4542-9f62-a2a5aa5ce7b8",
   "metadata": {
    "tags": []
   },
   "outputs": [],
   "source": [
    "\n",
    "import os, sagemaker\n",
    "import numpy as np\n",
    "import pandas as pd\n",
    "import warnings\n",
    "warnings.filterwarnings('ignore')\n",
    "from sagemaker import get_execution_role"
   ]
  },
  {
   "cell_type": "markdown",
   "id": "2cd4eaec-6a09-43bf-9ddd-a921a7f7dfb9",
   "metadata": {},
   "source": [
    "Get and store the IAM executon role, SageMaker Session, instance region & the SageMaker client in the cell below.\n",
    "\n",
    "#### **Expected output:** Print the instance region"
   ]
  },
  {
   "cell_type": "code",
   "execution_count": 43,
   "id": "335fb212-00d0-4072-a338-67da61f06248",
   "metadata": {
    "cell_id": "a0a593aa-cce7-474d-aeee-7d8bb4fcd711",
    "deletable": false,
    "tags": []
   },
   "outputs": [
    {
     "name": "stdout",
     "output_type": "stream",
     "text": [
      "us-west-2\n"
     ]
    }
   ],
   "source": [
    "# Define IAM role- this will be necessary when defining your model\n",
    "iam_role = get_execution_role()\n",
    "\n",
    "# Set SageMaker session handle\n",
    "sess = sagemaker.Session()\n",
    "\n",
    "# Set the region of the instance \n",
    "my_region = sess.boto_session.region_name\n",
    "\n",
    "print(my_region)"
   ]
  },
  {
   "cell_type": "markdown",
   "id": "8ac967c5-5742-45c0-bf3f-7332f1c9a50f",
   "metadata": {},
   "source": [
    "### 12. Prepare test data\n",
    "\n",
    "Drop the label (`WAGP_CAT`) column and load the dataframe values in an array as shown in the demo.\n",
    "\n",
    "#### **Expected Output -** Shape of the dataframe values array in tuple format"
   ]
  },
  {
   "cell_type": "code",
   "execution_count": 11,
   "id": "fe6f3303-6f90-4eba-8f0c-770f516e1955",
   "metadata": {
    "tags": []
   },
   "outputs": [
    {
     "name": "stdout",
     "output_type": "stream",
     "text": [
      "Using bucket sb-aws-bucket-mgt\n"
     ]
    }
   ],
   "source": [
    "bucket = \"sb-aws-bucket-mgt\"\n",
    "prefix = \"data\"\n",
    "print('Using bucket ' + bucket)"
   ]
  },
  {
   "cell_type": "code",
   "execution_count": 33,
   "id": "a4833e3e-7764-4c89-82bb-9ded2aa014a5",
   "metadata": {
    "cell_id": "a0277080-9105-4af4-b056-7ec6ef004791",
    "deletable": false,
    "tags": []
   },
   "outputs": [
    {
     "data": {
      "text/plain": [
       "(131085, 11)"
      ]
     },
     "execution_count": 33,
     "metadata": {},
     "output_type": "execute_result"
    }
   ],
   "source": [
    "\n",
    "data_fname = \"s3://{}/{}/\n",
    "{}\".format(bucket, prefix ,\"model_data/test_data.csv\")\n",
    "test_df = pd.read_csv(data_fname)\n",
    "test_df_array = test_df.drop(['WAGP_CAT'], axis=1).values\n",
    "test_df_array.shape"
   ]
  },
  {
   "cell_type": "markdown",
   "id": "c635a8e3-f5dc-4227-bf3a-ab68ac95727e",
   "metadata": {},
   "source": [
    "### 13. Show the name and status of the deployed model endpoints \n",
    "\n",
    "Use the SageMaker client to get the list of active endpoints (Note that this returns a list of dictionaries)\n",
    "\n",
    "\n",
    "#### **Expected Output -** Name of active endpoints and their status"
   ]
  },
  {
   "cell_type": "code",
   "execution_count": 44,
   "id": "d15022fd-6b74-4100-a688-51c1d86c3999",
   "metadata": {
    "cell_id": "060d0d0b-2640-4033-99b7-b1b6557f3de4",
    "deletable": false,
    "tags": []
   },
   "outputs": [
    {
     "name": "stdout",
     "output_type": "stream",
     "text": [
      "Endpoint Name: xgboost-2024-03-20-01-47-34-585\n",
      "Status: InService\n",
      "\n",
      "Endpoint Name: xgboost-2024-03-20-01-08-44-058\n",
      "Status: InService\n",
      "\n"
     ]
    }
   ],
   "source": [
    "\n",
    "# Create a SageMaker client\n",
    "sagemaker_client = boto3.client('sagemaker')\n",
    "\n",
    "# Get the list of active endpoints\n",
    "endpoints=sagemaker_client.list_endpoints()\n",
    "# Print endpoint information\n",
    "for endpoint in endpoints['Endpoints']:\n",
    "    print(\"Endpoint Name:\", endpoint['EndpointName'])\n",
    "    # print(\"EndpointArn:\", endpoint['EndpointArn'])\n",
    "    print(\"Status:\", endpoint['EndpointStatus'])\n",
    "    print()"
   ]
  },
  {
   "cell_type": "markdown",
   "id": "63cfc529-78e2-4e7c-b87c-85cc80b55aa6",
   "metadata": {},
   "source": [
    "### 14. Real-Time Inference using deployed endpoints \n",
    "\n",
    "Use the `.predictor.Predictor()` method to load the model deployed at the endpoint as shown in the demo. \n",
    "\n",
    "Use the following values for the parameters:\n",
    "* `endpoint_name = <name-of-active-endpoint>`\n",
    "* `sagemaker_session = sess`\n",
    "* `serializer = sagemaker.serializers.CSVSerializer()`\n",
    "* `deserializer = sagemaker.deserializers.BytesDeserializer()`\n",
    "\n",
    "Next, use the loaded model to make predictions on the test data array.\n",
    "\n",
    "**NOTE:** Predictions are returned as byte object, so the contents need to be decoded into string and converted to number array. Refer the demo for assistance.\n",
    "\n",
    "#### **Expected Output:** Show the value counts of the predictions array\n",
    "\n",
    "Hint: You can use pd.Series to convert predictions array into Series to use the value counts function.\n",
    "\n"
   ]
  },
  {
   "cell_type": "code",
   "execution_count": 59,
   "id": "63ea5457-057a-4908-9b3c-fd8d787e7eec",
   "metadata": {
    "cell_id": "e5d26566-aec0-4d6f-8c28-ec1e86842c57",
    "deletable": false,
    "tags": []
   },
   "outputs": [
    {
     "name": "stdout",
     "output_type": "stream",
     "text": [
      "0.0    131085\n",
      "Name: count, dtype: int64\n"
     ]
    }
   ],
   "source": [
    "\n",
    "predictor = sagemaker.predictor.Predictor(endpoint_name='xgboost-2024-03-20-01-47-34-585',\n",
    "                                          sagemaker_session=sess,\n",
    "                                          serializer=sagemaker.serializers.CSVSerializer(),\n",
    "                                          deserializer=sagemaker.deserializers.BytesDeserializer())\n",
    "predictions = predictor.predict(data=test_df_array).decode('utf-8') # predict!\n",
    "predictions_array = np.fromstring(predictions, sep=',')  #and turn the prediction into an array\n",
    "# Convert predictions array into a pandas Series\n",
    "predictions_series = pd.Series(predictions_array)\n",
    "\n",
    "# Show the value counts of the predictions Series\n",
    "print(predictions_series.value_counts())"
   ]
  },
  {
   "cell_type": "markdown",
   "id": "c6a76ff0-b093-4f8c-927c-4dfc7dd05755",
   "metadata": {},
   "source": [
    "### Classification report \n",
    "\n",
    "Use the `classification_report` method to see how your model performs on the test set"
   ]
  },
  {
   "cell_type": "code",
   "execution_count": 51,
   "id": "89c9ec4f-8ed5-4efd-a1e1-79034114f61d",
   "metadata": {
    "tags": []
   },
   "outputs": [],
   "source": [
    "from sklearn.metrics import classification_report"
   ]
  },
  {
   "cell_type": "markdown",
   "id": "56ad7f19-2680-43f5-9190-b369dcbcbd89",
   "metadata": {},
   "source": [
    "#### **Expected output** - Classification report. Use `print` for formatting\n",
    "\n",
    "**NOTE** - Ignore any warnings"
   ]
  },
  {
   "cell_type": "code",
   "execution_count": 53,
   "id": "3cb31171-40a1-4686-b61c-bf8ecb8011aa",
   "metadata": {
    "cell_id": "55fa08f8-303c-4fb0-9400-f1f53bca4d56",
    "deletable": false,
    "tags": []
   },
   "outputs": [
    {
     "name": "stdout",
     "output_type": "stream",
     "text": [
      "[0 0 0 ... 0 0 0]\n",
      "[0 0 1 ... 0 0 0]\n",
      "              precision    recall  f1-score   support\n",
      "\n",
      "           0       0.64      1.00      0.78     83390\n",
      "           1       0.00      0.00      0.00     36865\n",
      "           2       0.00      0.00      0.00     10830\n",
      "\n",
      "    accuracy                           0.64    131085\n",
      "   macro avg       0.21      0.33      0.26    131085\n",
      "weighted avg       0.40      0.64      0.49    131085\n",
      "\n"
     ]
    }
   ],
   "source": [
    "\n",
    "y_true = test_df['WAGP_CAT'].values\n",
    "y_pred = predictions_array.astype(int)\n",
    "\n",
    "print(y_pred)\n",
    "print(y_true)\n",
    "\n",
    "print(classification_report(y_true,y_pred))"
   ]
  },
  {
   "cell_type": "markdown",
   "id": "961d3644-f385-465d-a58b-2a5315107a44",
   "metadata": {},
   "source": [
    "### Show the name and status of the deployed _TUNED_ model endpoint\n",
    "Use the SageMaker client to get the list of active endpoints (Note that this returns a list of dictionaries)\n",
    "\n",
    "\n",
    "#### **Expected Output -** Name of active endpoints after model tuning and their status"
   ]
  },
  {
   "cell_type": "code",
   "execution_count": 55,
   "id": "c58481b8-1ae1-4e95-be15-62d24b77cb03",
   "metadata": {
    "cell_id": "271a790f-aed5-48ed-96ff-0a9b71896f91",
    "deletable": false,
    "tags": []
   },
   "outputs": [
    {
     "name": "stdout",
     "output_type": "stream",
     "text": [
      "Endpoint Name: XGBoost-Tuner-240320-0212-002-2b47cacb\n",
      "Status: InService\n",
      "\n",
      "Endpoint Name: xgboost-2024-03-20-01-47-34-585\n",
      "Status: InService\n",
      "\n",
      "Endpoint Name: xgboost-2024-03-20-01-08-44-058\n",
      "Status: InService\n",
      "\n"
     ]
    }
   ],
   "source": [
    "sagemaker_client = boto3.client('sagemaker')\n",
    "\n",
    "# Get the list of active endpoints\n",
    "endpoints=sagemaker_client.list_endpoints()\n",
    "# Print endpoint information\n",
    "for endpoint in endpoints['Endpoints']:\n",
    "    print(\"Endpoint Name:\", endpoint['EndpointName'])\n",
    "    # print(\"EndpointArn:\", endpoint['EndpointArn'])\n",
    "    print(\"Status:\", endpoint['EndpointStatus'])\n",
    "    print()"
   ]
  },
  {
   "cell_type": "markdown",
   "id": "730b4c56-254f-49f4-8d95-c3626c94b2ea",
   "metadata": {},
   "source": [
    "### Real-Time Inference using deployed endpoints after model tuning \n",
    "\n",
    "Use the `.predictor.Predictor()` method to load the tuned model deployed at the endpoint as shown in the demo. \n",
    "\n",
    "Use the following values for the parameters:\n",
    "* `endpoint_name = <name-of-active-endpoint>`\n",
    "* `sagemaker_session = sess`\n",
    "* `serializer = sagemaker.serializers.CSVSerializer()`\n",
    "* `deserializer = sagemaker.deserializers.BytesDeserializer()`\n",
    "\n",
    "Next, use the loaded model to make predictions on the test data array.\n",
    "\n",
    "**NOTE:** Predictions are returned as byte object, so the contents need to be decoded into string and converted to number array. Refer the demo for assistance.\n",
    "\n",
    "#### **Expected Output:** Show the value counts of the predictions array\n",
    "\n",
    "\n",
    "\n"
   ]
  },
  {
   "cell_type": "code",
   "execution_count": 60,
   "id": "fcee9b5d-84dd-45f2-95d0-a3db59b5d69b",
   "metadata": {
    "cell_id": "2630c6bf-84fc-4654-b48a-35e6d57515fb",
    "deletable": false,
    "tags": []
   },
   "outputs": [
    {
     "name": "stdout",
     "output_type": "stream",
     "text": [
      "0.0    95945\n",
      "1.0    32714\n",
      "2.0     2426\n",
      "Name: count, dtype: int64\n"
     ]
    }
   ],
   "source": [
    "predictor = sagemaker.predictor.Predictor(endpoint_name='XGBoost-Tuner-240320-0212-002-2b47cacb',\n",
    "                                          sagemaker_session=sess,\n",
    "                                          serializer=sagemaker.serializers.CSVSerializer(),\n",
    "                                          deserializer=sagemaker.deserializers.BytesDeserializer())\n",
    "predictions = predictor.predict(data=test_df_array).decode('utf-8') # predict!\n",
    "predictions_array = np.fromstring(predictions, sep=',')  #and turn the prediction into an array\n",
    "# Convert predictions array into a pandas Series\n",
    "predictions_series = pd.Series(predictions_array)\n",
    "\n",
    "# Show the value counts of the predictions Series\n",
    "print(predictions_series.value_counts())\n"
   ]
  },
  {
   "cell_type": "markdown",
   "id": "963fc9ec-a6af-4cbc-951d-e4156e148e72",
   "metadata": {},
   "source": [
    "### 21. Classification report after model tuning\n",
    "\n",
    "Use the `classification_report` method to see how your model performs on the test set after hyperparamter tuning."
   ]
  },
  {
   "cell_type": "code",
   "execution_count": null,
   "id": "30f6e0f5-5f15-4c16-87d3-ac842fddbe72",
   "metadata": {
    "cell_id": "b54e70a6-4ef4-4a47-9c40-5f1c3e113ac8",
    "deletable": false,
    "tags": []
   },
   "outputs": [],
   "source": [
    "\n",
    "y_true = test_df['WAGP_CAT'].values\n",
    "y_pred = predictions_array.astype(int)\n",
    "\n",
    "print(y_pred)\n",
    "print(y_true)\n",
    "\n",
    "print(classification_report(y_true,y_pred))\n"
   ]
  }
 ],
 "metadata": {
  "celltoolbar": "Edit Metadata",
  "kernelspec": {
   "display_name": "Python 3",
   "language": "python",
   "name": "python3"
  },
  "language_info": {
   "codemirror_mode": {
    "name": "ipython",
    "version": 3
   },
   "file_extension": ".py",
   "mimetype": "text/x-python",
   "name": "python",
   "nbconvert_exporter": "python",
   "pygments_lexer": "ipython3",
   "version": "3.11.9"
  }
 },
 "nbformat": 4,
 "nbformat_minor": 5
}
